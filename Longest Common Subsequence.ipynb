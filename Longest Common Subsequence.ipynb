{
 "cells": [
  {
   "cell_type": "code",
   "execution_count": 1,
   "metadata": {},
   "outputs": [],
   "source": [
    "str1=\"abc\"\n",
    "str2=\"bcd\"\n",
    "#LCS for input Sequences “ABCDGH” and “AEDFHR” is “ADH” of length 3.\n",
    "#LCS for input Sequences “AGGTAB” and “GXTXAYB” is “GTAB” of length 4."
   ]
  },
  {
   "cell_type": "code",
   "execution_count": 2,
   "metadata": {},
   "outputs": [],
   "source": [
    "def lcs(string1,string2,l1,l2):\n",
    "    if l1==0 or l2==0:return 0\n",
    "    if string1[l1-1]==string2[l2-1]:return 1+lcs(string1,string2,l1-1,l2-1)\n",
    "    return max(lcs(string1,string2,l1,l2-1),lcs(string1,string2,l1-1,l2))"
   ]
  },
  {
   "cell_type": "code",
   "execution_count": 3,
   "metadata": {},
   "outputs": [
    {
     "name": "stdout",
     "output_type": "stream",
     "text": [
      "Wall time: 0 ns\n"
     ]
    },
    {
     "data": {
      "text/plain": [
       "2"
      ]
     },
     "execution_count": 3,
     "metadata": {},
     "output_type": "execute_result"
    }
   ],
   "source": [
    "%%time\n",
    "lcs(str1,str2,len(str1),len(str2))"
   ]
  },
  {
   "cell_type": "code",
   "execution_count": 4,
   "metadata": {},
   "outputs": [
    {
     "data": {
      "text/plain": [
       "3"
      ]
     },
     "execution_count": 4,
     "metadata": {},
     "output_type": "execute_result"
    }
   ],
   "source": [
    "len(str1)"
   ]
  },
  {
   "cell_type": "markdown",
   "metadata": {},
   "source": [
    "### TopDown Program"
   ]
  },
  {
   "cell_type": "code",
   "execution_count": 5,
   "metadata": {},
   "outputs": [],
   "source": [
    "lcs_dict = [[-1] * (len(str2)+1) for _ in range(len(str1)+1)]"
   ]
  },
  {
   "cell_type": "code",
   "execution_count": 6,
   "metadata": {},
   "outputs": [],
   "source": [
    "def lcs_td(string1,string2,l1,l2):\n",
    "    if l1==0 or l2==0:return 0\n",
    "    if lcs_dict[l1][l2]!=-1:\n",
    "        return lcs_dict[l1][l2]\n",
    "    if string1[l1-1]==string2[l2-1]:\n",
    "        lcs_dict[l1][l2]=1+lcs_td(string1,string2,l1-1,l2-1)\n",
    "        return lcs_dict[l1][l2]\n",
    "    lcs_dict[l1][l2]=max(lcs_td(string1,string2,l1,l2-1),lcs_td(string1,string2,l1-1,l2))\n",
    "    return lcs_dict[l1][l2]"
   ]
  },
  {
   "cell_type": "code",
   "execution_count": 7,
   "metadata": {},
   "outputs": [
    {
     "name": "stdout",
     "output_type": "stream",
     "text": [
      "Wall time: 0 ns\n"
     ]
    },
    {
     "data": {
      "text/plain": [
       "2"
      ]
     },
     "execution_count": 7,
     "metadata": {},
     "output_type": "execute_result"
    }
   ],
   "source": [
    "%%time\n",
    "lcs_td(str1,str2,len(str1),len(str2))"
   ]
  },
  {
   "cell_type": "code",
   "execution_count": 8,
   "metadata": {},
   "outputs": [
    {
     "data": {
      "text/plain": [
       "[[-1, -1, -1, -1], [-1, 0, 0, 0], [-1, 1, 1, 1], [-1, -1, 2, 2]]"
      ]
     },
     "execution_count": 8,
     "metadata": {},
     "output_type": "execute_result"
    }
   ],
   "source": [
    "lcs_dict"
   ]
  },
  {
   "cell_type": "markdown",
   "metadata": {},
   "source": [
    "### printing LCS"
   ]
  },
  {
   "cell_type": "code",
   "execution_count": 9,
   "metadata": {},
   "outputs": [],
   "source": [
    "def print_lcs(l1,l2):\n",
    "    if l1<=0 or l2<=0:return 0\n",
    "    if str1[l1-1]==str2[l2-1]:\n",
    "        print_lcs(l1-1,l2-1)\n",
    "        print(str1[l1-1],end=\"\")\n",
    "    elif lcs_dict[l1-1][l2]>lcs_dict[l1][l2-1]:\n",
    "        print_lcs(l1-1,l2)\n",
    "    else:\n",
    "        print_lcs(l1,l2-1)"
   ]
  },
  {
   "cell_type": "code",
   "execution_count": 10,
   "metadata": {},
   "outputs": [
    {
     "name": "stdout",
     "output_type": "stream",
     "text": [
      "bc"
     ]
    }
   ],
   "source": [
    "print_lcs(len(str1),len(str2))"
   ]
  },
  {
   "cell_type": "markdown",
   "metadata": {},
   "source": [
    "## Bottom Up"
   ]
  },
  {
   "cell_type": "code",
   "execution_count": 11,
   "metadata": {},
   "outputs": [],
   "source": [
    "##using table\n",
    "tab = [[0] * (len(str2)+1) for _ in range(len(str1)+1)]"
   ]
  },
  {
   "cell_type": "code",
   "execution_count": 12,
   "metadata": {},
   "outputs": [],
   "source": [
    "import numpy as np"
   ]
  },
  {
   "cell_type": "code",
   "execution_count": 13,
   "metadata": {},
   "outputs": [
    {
     "data": {
      "text/plain": [
       "[[0, 0, 0, 0], [0, 0, 0, 0], [0, 0, 0, 0], [0, 0, 0, 0]]"
      ]
     },
     "execution_count": 13,
     "metadata": {},
     "output_type": "execute_result"
    }
   ],
   "source": [
    "tab"
   ]
  },
  {
   "cell_type": "code",
   "execution_count": 14,
   "metadata": {},
   "outputs": [],
   "source": [
    "tab=np.array(tab)"
   ]
  },
  {
   "cell_type": "code",
   "execution_count": 15,
   "metadata": {},
   "outputs": [],
   "source": [
    "def lcs_bu(str1,str2):\n",
    "    m=len(str1)\n",
    "    n=len(str2)\n",
    "    for i in range(m+1): \n",
    "        for j in range(n+1): \n",
    "            if i == 0 or j == 0 : \n",
    "                tab[i,j] = 0\n",
    "            elif str1[i-1] == str2[j-1]: \n",
    "                tab[i,j] =tab[i-1,j-1]+1\n",
    "            else:\n",
    "                tab[i,j] = max(tab[i,j-1] , tab[i-1,j]) \n",
    "    return tab[m,n]"
   ]
  },
  {
   "cell_type": "code",
   "execution_count": 16,
   "metadata": {},
   "outputs": [
    {
     "data": {
      "text/plain": [
       "2"
      ]
     },
     "execution_count": 16,
     "metadata": {},
     "output_type": "execute_result"
    }
   ],
   "source": [
    "lcs_bu(str1,str2)"
   ]
  },
  {
   "cell_type": "code",
   "execution_count": 17,
   "metadata": {},
   "outputs": [
    {
     "data": {
      "text/plain": [
       "array([[0, 0, 0, 0],\n",
       "       [0, 0, 0, 0],\n",
       "       [0, 1, 1, 1],\n",
       "       [0, 1, 2, 2]])"
      ]
     },
     "execution_count": 17,
     "metadata": {},
     "output_type": "execute_result"
    }
   ],
   "source": [
    "tab"
   ]
  },
  {
   "cell_type": "code",
   "execution_count": 18,
   "metadata": {},
   "outputs": [],
   "source": [
    "def print_lcs_bu(l1,l2):\n",
    "    if l1<=0 or l2<=0:return\n",
    "    if str1[l1-1]==str2[l2-1]:\n",
    "        print_lcs_bu(l1-1,l2-1)\n",
    "        print(str1[l1-1],end=\"\")\n",
    "    elif tab[l1-1][l2]>tab[l1][l2-1]:\n",
    "        print_lcs_bu(l1-1,l2)\n",
    "    else:\n",
    "        print_lcs_bu(l1,l2-1)"
   ]
  },
  {
   "cell_type": "code",
   "execution_count": 19,
   "metadata": {},
   "outputs": [
    {
     "name": "stdout",
     "output_type": "stream",
     "text": [
      "bc"
     ]
    }
   ],
   "source": [
    "print_lcs_bu(len(str1),len(str2))"
   ]
  }
 ],
 "metadata": {
  "kernelspec": {
   "display_name": "Python 3",
   "language": "python",
   "name": "python3"
  },
  "language_info": {
   "codemirror_mode": {
    "name": "ipython",
    "version": 3
   },
   "file_extension": ".py",
   "mimetype": "text/x-python",
   "name": "python",
   "nbconvert_exporter": "python",
   "pygments_lexer": "ipython3",
   "version": "3.7.3"
  }
 },
 "nbformat": 4,
 "nbformat_minor": 2
}
