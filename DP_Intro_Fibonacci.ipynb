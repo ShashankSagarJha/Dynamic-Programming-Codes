{
 "cells": [
  {
   "cell_type": "markdown",
   "metadata": {},
   "source": [
    "### Fibonacci Recursive Code"
   ]
  },
  {
   "cell_type": "code",
   "execution_count": 1,
   "metadata": {},
   "outputs": [],
   "source": [
    "#fib Series: 1,1,2,3,5,8,13,21,34,55\n",
    "def fib(num):\n",
    "    if num<=2:return 1\n",
    "    return fib(num-1)+fib(num-2)"
   ]
  },
  {
   "cell_type": "code",
   "execution_count": 2,
   "metadata": {},
   "outputs": [
    {
     "name": "stdout",
     "output_type": "stream",
     "text": [
      "Wall time: 0 ns\n"
     ]
    },
    {
     "data": {
      "text/plain": [
       "5"
      ]
     },
     "execution_count": 2,
     "metadata": {},
     "output_type": "execute_result"
    }
   ],
   "source": [
    "%%time\n",
    "fib(5)"
   ]
  },
  {
   "cell_type": "code",
   "execution_count": 3,
   "metadata": {},
   "outputs": [
    {
     "name": "stdout",
     "output_type": "stream",
     "text": [
      "Wall time: 0 ns\n"
     ]
    },
    {
     "data": {
      "text/plain": [
       "55"
      ]
     },
     "execution_count": 3,
     "metadata": {},
     "output_type": "execute_result"
    }
   ],
   "source": [
    "%%time\n",
    "fib(10)"
   ]
  },
  {
   "cell_type": "code",
   "execution_count": 4,
   "metadata": {},
   "outputs": [
    {
     "name": "stdout",
     "output_type": "stream",
     "text": [
      "Wall time: 998 µs\n"
     ]
    },
    {
     "data": {
      "text/plain": [
       "6765"
      ]
     },
     "execution_count": 4,
     "metadata": {},
     "output_type": "execute_result"
    }
   ],
   "source": [
    "%%time\n",
    "fib(20)"
   ]
  },
  {
   "cell_type": "code",
   "execution_count": 5,
   "metadata": {},
   "outputs": [
    {
     "name": "stdout",
     "output_type": "stream",
     "text": [
      "Wall time: 138 ms\n"
     ]
    },
    {
     "data": {
      "text/plain": [
       "832040"
      ]
     },
     "execution_count": 5,
     "metadata": {},
     "output_type": "execute_result"
    }
   ],
   "source": [
    "%%time\n",
    "fib(30)"
   ]
  },
  {
   "cell_type": "code",
   "execution_count": 6,
   "metadata": {},
   "outputs": [
    {
     "name": "stdout",
     "output_type": "stream",
     "text": [
      "Wall time: 16.5 s\n"
     ]
    },
    {
     "data": {
      "text/plain": [
       "102334155"
      ]
     },
     "execution_count": 6,
     "metadata": {},
     "output_type": "execute_result"
    }
   ],
   "source": [
    "%%time\n",
    "fib(40)"
   ]
  },
  {
   "cell_type": "code",
   "execution_count": 7,
   "metadata": {},
   "outputs": [
    {
     "name": "stdout",
     "output_type": "stream",
     "text": [
      "26 -> 121393 and time taken = 0.02 seconds\n",
      "27 -> 196418 and time taken = 0.03 seconds\n",
      "28 -> 317811 and time taken = 0.05 seconds\n",
      "29 -> 514229 and time taken = 0.09 seconds\n",
      "30 -> 832040 and time taken = 0.14 seconds\n",
      "31 -> 1346269 and time taken = 0.22 seconds\n",
      "32 -> 2178309 and time taken = 0.35 seconds\n",
      "33 -> 3524578 and time taken = 0.58 seconds\n",
      "34 -> 5702887 and time taken = 0.91 seconds\n",
      "35 -> 9227465 and time taken = 1.47 seconds\n",
      "36 -> 14930352 and time taken = 2.37 seconds\n",
      "37 -> 24157817 and time taken = 4.01 seconds\n",
      "38 -> 39088169 and time taken = 6.25 seconds\n",
      "39 -> 63245986 and time taken = 10.17 seconds\n",
      "40 -> 102334155 and time taken = 16.19 seconds\n"
     ]
    }
   ],
   "source": [
    "import time\n",
    "time_list=[]\n",
    "for i in range(1,41):\n",
    "    start=time.time()\n",
    "    x=fib(i)\n",
    "    end=time.time()\n",
    "    total_time=end-start\n",
    "    if i>25:\n",
    "        print(i,\"->\",x,\"and time taken =\",round(total_time,2),\"seconds\")\n",
    "    time_list.append(total_time)"
   ]
  },
  {
   "cell_type": "code",
   "execution_count": 8,
   "metadata": {},
   "outputs": [
    {
     "data": {
      "text/plain": [
       "<matplotlib.axes._subplots.AxesSubplot at 0x1b0501637f0>"
      ]
     },
     "execution_count": 8,
     "metadata": {},
     "output_type": "execute_result"
    },
    {
     "data": {
      "image/png": "[encoded data removed]",
      "text/plain": [
       "<Figure size 1008x576 with 1 Axes>"
      ]
     },
     "metadata": {
      "needs_background": "light"
     },
     "output_type": "display_data"
    }
   ],
   "source": [
    "import seaborn as sns\n",
    "import matplotlib.pyplot as plt\n",
    "%matplotlib inline\n",
    "plt.figure(figsize=(14,8))\n",
    "sns.lineplot(x=list(range(1,41)),y=time_list)"
   ]
  },
  {
   "cell_type": "markdown",
   "metadata": {},
   "source": [
    "### fibonacci top-down code"
   ]
  },
  {
   "cell_type": "code",
   "execution_count": 9,
   "metadata": {},
   "outputs": [],
   "source": [
    "def fib_topdown(num): \n",
    "    if tab[num]!=-1:return tab[num]\n",
    "    if num<=2:return 1\n",
    "    tab[num]=fib_topdown(num-1)+fib_topdown(num-2)\n",
    "    return tab[num]"
   ]
  },
  {
   "cell_type": "code",
   "execution_count": 10,
   "metadata": {},
   "outputs": [
    {
     "name": "stdout",
     "output_type": "stream",
     "text": [
      "26 -> 121393 and time taken = 0.0 seconds\n",
      "27 -> 196418 and time taken = 0.0 seconds\n",
      "28 -> 317811 and time taken = 0.0 seconds\n",
      "29 -> 514229 and time taken = 0.0 seconds\n",
      "30 -> 832040 and time taken = 0.0 seconds\n",
      "31 -> 1346269 and time taken = 0.0 seconds\n",
      "32 -> 2178309 and time taken = 0.0 seconds\n",
      "33 -> 3524578 and time taken = 0.0 seconds\n",
      "34 -> 5702887 and time taken = 0.0 seconds\n",
      "35 -> 9227465 and time taken = 0.0 seconds\n",
      "36 -> 14930352 and time taken = 0.0 seconds\n",
      "37 -> 24157817 and time taken = 0.0 seconds\n",
      "38 -> 39088169 and time taken = 0.0 seconds\n",
      "39 -> 63245986 and time taken = 0.0 seconds\n",
      "40 -> 102334155 and time taken = 0.0 seconds\n"
     ]
    }
   ],
   "source": [
    "for i in range(1,41):\n",
    "    tab=[-1]*(i+1)\n",
    "    start=time.time()\n",
    "    x=fib_topdown(i)\n",
    "    end=time.time()\n",
    "    total_time=end-start\n",
    "    if i>25:\n",
    "        print(i,\"->\",x,\"and time taken =\",round(total_time,2),\"seconds\")"
   ]
  },
  {
   "cell_type": "markdown",
   "metadata": {},
   "source": [
    "### Fibonacci BottomUp Program"
   ]
  },
  {
   "cell_type": "code",
   "execution_count": 11,
   "metadata": {},
   "outputs": [],
   "source": [
    "def fib_bottomUp(n):\n",
    "    if n<=0:return 0\n",
    "    tab=[1]*(n+1)\n",
    "    for i in range(3,n+1):\n",
    "        tab[i]=tab[i-1]+tab[i-2]\n",
    "    return tab[n]"
   ]
  },
  {
   "cell_type": "code",
   "execution_count": 12,
   "metadata": {},
   "outputs": [
    {
     "name": "stdout",
     "output_type": "stream",
     "text": [
      "Wall time: 0 ns\n"
     ]
    },
    {
     "data": {
      "text/plain": [
       "55"
      ]
     },
     "execution_count": 12,
     "metadata": {},
     "output_type": "execute_result"
    }
   ],
   "source": [
    "%%time\n",
    "fib_bottomUp(10)"
   ]
  },
  {
   "cell_type": "code",
   "execution_count": 13,
   "metadata": {},
   "outputs": [
    {
     "name": "stdout",
     "output_type": "stream",
     "text": [
      "Wall time: 0 ns\n"
     ]
    },
    {
     "data": {
      "text/plain": [
       "6765"
      ]
     },
     "execution_count": 13,
     "metadata": {},
     "output_type": "execute_result"
    }
   ],
   "source": [
    "%%time\n",
    "fib_bottomUp(20)"
   ]
  },
  {
   "cell_type": "code",
   "execution_count": 14,
   "metadata": {},
   "outputs": [
    {
     "name": "stdout",
     "output_type": "stream",
     "text": [
      "Wall time: 0 ns\n"
     ]
    },
    {
     "data": {
      "text/plain": [
       "832040"
      ]
     },
     "execution_count": 14,
     "metadata": {},
     "output_type": "execute_result"
    }
   ],
   "source": [
    "%%time\n",
    "fib_bottomUp(30)"
   ]
  },
  {
   "cell_type": "code",
   "execution_count": 15,
   "metadata": {},
   "outputs": [
    {
     "name": "stdout",
     "output_type": "stream",
     "text": [
      "Wall time: 0 ns\n"
     ]
    },
    {
     "data": {
      "text/plain": [
       "102334155"
      ]
     },
     "execution_count": 15,
     "metadata": {},
     "output_type": "execute_result"
    }
   ],
   "source": [
    "%%time\n",
    "fib_bottomUp(40)"
   ]
  },
  {
   "cell_type": "markdown",
   "metadata": {},
   "source": [
    "### Non Dynamic Programming  Version below"
   ]
  },
  {
   "cell_type": "code",
   "execution_count": 16,
   "metadata": {},
   "outputs": [],
   "source": [
    "def fib_norm(n):\n",
    "    a=1;b=1\n",
    "    for i in range(1,n+1):\n",
    "        print(\"{} -> {} \".format(i,b))\n",
    "        a,b=a+b,a"
   ]
  },
  {
   "cell_type": "code",
   "execution_count": 17,
   "metadata": {},
   "outputs": [
    {
     "name": "stdout",
     "output_type": "stream",
     "text": [
      "1 -> 1 \n",
      "2 -> 1 \n",
      "3 -> 2 \n",
      "4 -> 3 \n",
      "5 -> 5 \n",
      "6 -> 8 \n",
      "7 -> 13 \n",
      "8 -> 21 \n",
      "9 -> 34 \n",
      "10 -> 55 \n",
      "11 -> 89 \n",
      "12 -> 144 \n",
      "13 -> 233 \n",
      "14 -> 377 \n",
      "15 -> 610 \n",
      "16 -> 987 \n",
      "17 -> 1597 \n",
      "18 -> 2584 \n",
      "19 -> 4181 \n",
      "20 -> 6765 \n",
      "21 -> 10946 \n",
      "22 -> 17711 \n",
      "23 -> 28657 \n",
      "24 -> 46368 \n",
      "25 -> 75025 \n",
      "26 -> 121393 \n",
      "27 -> 196418 \n",
      "28 -> 317811 \n",
      "29 -> 514229 \n",
      "30 -> 832040 \n",
      "31 -> 1346269 \n",
      "32 -> 2178309 \n",
      "33 -> 3524578 \n",
      "34 -> 5702887 \n",
      "35 -> 9227465 \n",
      "36 -> 14930352 \n",
      "37 -> 24157817 \n",
      "38 -> 39088169 \n",
      "39 -> 63245986 \n",
      "40 -> 102334155 \n"
     ]
    }
   ],
   "source": [
    "fib_norm(40)"
   ]
  },
  {
   "cell_type": "code",
   "execution_count": null,
   "metadata": {},
   "outputs": [],
   "source": []
  }
 ],
 "metadata": {
  "kernelspec": {
   "display_name": "Python 3",
   "language": "python",
   "name": "python3"
  },
  "language_info": {
   "codemirror_mode": {
    "name": "ipython",
    "version": 3
   },
   "file_extension": ".py",
   "mimetype": "text/x-python",
   "name": "python",
   "nbconvert_exporter": "python",
   "pygments_lexer": "ipython3",
   "version": "3.7.3"
  }
 },
 "nbformat": 4,
 "nbformat_minor": 2
}
