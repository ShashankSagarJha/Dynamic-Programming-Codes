{
 "cells": [
  {
   "cell_type": "code",
   "execution_count": 1,
   "metadata": {},
   "outputs": [],
   "source": [
    "import sys"
   ]
  },
  {
   "cell_type": "code",
   "execution_count": 2,
   "metadata": {},
   "outputs": [],
   "source": [
    "def rod_cut(n):\n",
    "    if n==0:return 0\n",
    "    max_profit=-sys.maxsize\n",
    "    for i in range(1,n+1):\n",
    "        max_profit=max(max_profit,profit_arr[i]+rod_cut(n-i))\n",
    "    return max_profit"
   ]
  },
  {
   "cell_type": "code",
   "execution_count": 3,
   "metadata": {},
   "outputs": [],
   "source": [
    "profit_arr=[0,1,5,8,9,10,17,17,20,24,30]"
   ]
  },
  {
   "cell_type": "code",
   "execution_count": 4,
   "metadata": {},
   "outputs": [
    {
     "name": "stdout",
     "output_type": "stream",
     "text": [
      "1 -> 1\n",
      "2 -> 5\n",
      "3 -> 8\n",
      "4 -> 10\n",
      "5 -> 13\n",
      "6 -> 17\n",
      "7 -> 18\n",
      "8 -> 22\n",
      "9 -> 25\n",
      "10 -> 30\n"
     ]
    }
   ],
   "source": [
    "for i in range(1,11):\n",
    "    print(i,\"->\",rod_cut(i))"
   ]
  },
  {
   "cell_type": "code",
   "execution_count": 5,
   "metadata": {},
   "outputs": [],
   "source": [
    "#declaring rod length\n",
    "n=9"
   ]
  },
  {
   "cell_type": "markdown",
   "metadata": {},
   "source": [
    "## Top Down"
   ]
  },
  {
   "cell_type": "code",
   "execution_count": 6,
   "metadata": {},
   "outputs": [],
   "source": [
    "def rod_cut_td(n):\n",
    "    if opt_profit_td[n]!=-1:return opt_profit_td[n]\n",
    "    if n==0:opt_profit_td[n]=0;return 0\n",
    "    max_profit=0\n",
    "    for i in range(1,n+1):\n",
    "        max_profit=max(max_profit,profit_arr[i]+rod_cut(n-i))\n",
    "    opt_profit_td[n]=max_profit\n",
    "    return opt_profit_td[n]"
   ]
  },
  {
   "cell_type": "code",
   "execution_count": 7,
   "metadata": {},
   "outputs": [
    {
     "data": {
      "text/plain": [
       "25"
      ]
     },
     "execution_count": 7,
     "metadata": {},
     "output_type": "execute_result"
    }
   ],
   "source": [
    "opt_profit_td=[-1]*(n+1)\n",
    "rod_cut_td(n)"
   ]
  },
  {
   "cell_type": "markdown",
   "metadata": {},
   "source": [
    "## Bottom Up"
   ]
  },
  {
   "cell_type": "code",
   "execution_count": 8,
   "metadata": {},
   "outputs": [],
   "source": [
    "opt_profit=[-1]*(n+1)\n",
    "opt_cut=[-1]*(n+1)"
   ]
  },
  {
   "cell_type": "code",
   "execution_count": 9,
   "metadata": {},
   "outputs": [],
   "source": [
    "def rod_cut_bu(n):\n",
    "    for i in range(1,n+1):\n",
    "        for j in range(1,i+1):\n",
    "            profit=profit_arr[j]+opt_profit[i-j]\n",
    "            if profit>opt_profit[i]:\n",
    "                opt_profit[i]=profit\n",
    "                opt_cut[i]=j\n",
    "    return opt_profit[n]"
   ]
  },
  {
   "cell_type": "code",
   "execution_count": 10,
   "metadata": {},
   "outputs": [
    {
     "data": {
      "text/plain": [
       "24"
      ]
     },
     "execution_count": 10,
     "metadata": {},
     "output_type": "execute_result"
    }
   ],
   "source": [
    "rod_cut_bu(n)"
   ]
  },
  {
   "cell_type": "code",
   "execution_count": 11,
   "metadata": {},
   "outputs": [],
   "source": [
    "def cuts(n):\n",
    "    if n<=0:return\n",
    "    cut=opt_cut[n]\n",
    "    print(cut,end=\",\")\n",
    "    cuts(n-cut)"
   ]
  },
  {
   "cell_type": "code",
   "execution_count": 12,
   "metadata": {},
   "outputs": [
    {
     "name": "stdout",
     "output_type": "stream",
     "text": [
      "Optimal cuts for rod of length 1m are: 1,\n",
      "Optimal cuts for rod of length 2m are: 2,\n",
      "Optimal cuts for rod of length 3m are: 3,\n",
      "Optimal cuts for rod of length 4m are: 2,2,\n",
      "Optimal cuts for rod of length 5m are: 2,3,\n",
      "Optimal cuts for rod of length 6m are: 6,\n",
      "Optimal cuts for rod of length 7m are: 1,6,\n",
      "Optimal cuts for rod of length 8m are: 2,6,\n",
      "Optimal cuts for rod of length 9m are: 3,6,\n"
     ]
    }
   ],
   "source": [
    "for i in range(1,n+1):\n",
    "    print(\"Optimal cuts for rod of length {}m are: \".format(i),end=\"\")\n",
    "    cuts(i)\n",
    "    print(\"\")"
   ]
  },
  {
   "cell_type": "code",
   "execution_count": null,
   "metadata": {},
   "outputs": [],
   "source": []
  }
 ],
 "metadata": {
  "kernelspec": {
   "display_name": "Python 3",
   "language": "python",
   "name": "python3"
  },
  "language_info": {
   "codemirror_mode": {
    "name": "ipython",
    "version": 3
   },
   "file_extension": ".py",
   "mimetype": "text/x-python",
   "name": "python",
   "nbconvert_exporter": "python",
   "pygments_lexer": "ipython3",
   "version": "3.7.3"
  }
 },
 "nbformat": 4,
 "nbformat_minor": 2
}
