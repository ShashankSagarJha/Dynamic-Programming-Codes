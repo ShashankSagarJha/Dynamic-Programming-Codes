{
 "cells": [
  {
   "cell_type": "code",
   "execution_count": 55,
   "metadata": {},
   "outputs": [],
   "source": [
    "word=\"underqualified\"\n",
    "#abcdefghijklmnopqrstuvwxyz\n",
    "#cdebb\n",
    "#bbbab\n",
    "#character\n",
    "#underqualified\n",
    "#turboventilator"
   ]
  },
  {
   "cell_type": "code",
   "execution_count": 56,
   "metadata": {},
   "outputs": [],
   "source": [
    "def lps_rec(i,j):\n",
    "        global func_r\n",
    "        func_r+=1\n",
    "        if i==j:return 1\n",
    "        if i>j:return 0\n",
    "        if word[i]==word[j]:return 2+lps_rec(i+1,j-1)\n",
    "        return max(lps_rec(i+1,j),lps_rec(i,j-1))"
   ]
  },
  {
   "cell_type": "code",
   "execution_count": 57,
   "metadata": {},
   "outputs": [
    {
     "data": {
      "text/plain": [
       "14"
      ]
     },
     "execution_count": 57,
     "metadata": {},
     "output_type": "execute_result"
    }
   ],
   "source": [
    "len(word)"
   ]
  },
  {
   "cell_type": "code",
   "execution_count": 58,
   "metadata": {},
   "outputs": [
    {
     "name": "stdout",
     "output_type": "stream",
     "text": [
      "Wall time: 2.99 ms\n"
     ]
    },
    {
     "data": {
      "text/plain": [
       "(7, 10876)"
      ]
     },
     "execution_count": 58,
     "metadata": {},
     "output_type": "execute_result"
    }
   ],
   "source": [
    "%%time\n",
    "func_r=0\n",
    "lps_rec(0,len(word)-1),func_r"
   ]
  },
  {
   "cell_type": "markdown",
   "metadata": {},
   "source": [
    "### TopDown"
   ]
  },
  {
   "cell_type": "code",
   "execution_count": 59,
   "metadata": {},
   "outputs": [],
   "source": [
    "tab = [[-1] * (len(word)) for i in range(len(word))]"
   ]
  },
  {
   "cell_type": "code",
   "execution_count": 60,
   "metadata": {},
   "outputs": [
    {
     "data": {
      "text/plain": [
       "14"
      ]
     },
     "execution_count": 60,
     "metadata": {},
     "output_type": "execute_result"
    }
   ],
   "source": [
    "len(tab)"
   ]
  },
  {
   "cell_type": "code",
   "execution_count": 61,
   "metadata": {},
   "outputs": [
    {
     "data": {
      "text/plain": [
       "[[-1, -1, -1, -1, -1, -1, -1, -1, -1, -1, -1, -1, -1, -1],\n",
       " [-1, -1, -1, -1, -1, -1, -1, -1, -1, -1, -1, -1, -1, -1],\n",
       " [-1, -1, -1, -1, -1, -1, -1, -1, -1, -1, -1, -1, -1, -1],\n",
       " [-1, -1, -1, -1, -1, -1, -1, -1, -1, -1, -1, -1, -1, -1],\n",
       " [-1, -1, -1, -1, -1, -1, -1, -1, -1, -1, -1, -1, -1, -1],\n",
       " [-1, -1, -1, -1, -1, -1, -1, -1, -1, -1, -1, -1, -1, -1],\n",
       " [-1, -1, -1, -1, -1, -1, -1, -1, -1, -1, -1, -1, -1, -1],\n",
       " [-1, -1, -1, -1, -1, -1, -1, -1, -1, -1, -1, -1, -1, -1],\n",
       " [-1, -1, -1, -1, -1, -1, -1, -1, -1, -1, -1, -1, -1, -1],\n",
       " [-1, -1, -1, -1, -1, -1, -1, -1, -1, -1, -1, -1, -1, -1],\n",
       " [-1, -1, -1, -1, -1, -1, -1, -1, -1, -1, -1, -1, -1, -1],\n",
       " [-1, -1, -1, -1, -1, -1, -1, -1, -1, -1, -1, -1, -1, -1],\n",
       " [-1, -1, -1, -1, -1, -1, -1, -1, -1, -1, -1, -1, -1, -1],\n",
       " [-1, -1, -1, -1, -1, -1, -1, -1, -1, -1, -1, -1, -1, -1]]"
      ]
     },
     "execution_count": 61,
     "metadata": {},
     "output_type": "execute_result"
    }
   ],
   "source": [
    "tab"
   ]
  },
  {
   "cell_type": "code",
   "execution_count": 62,
   "metadata": {},
   "outputs": [],
   "source": [
    "def lps_td(i,j):\n",
    "    global func\n",
    "    func+=1\n",
    "    if i>j:return 0\n",
    "    if i==j:tab[i][j]=1;return 1\n",
    "    if tab[i][j]!=-1:return tab[i][j]\n",
    "    if word[i]==word[j]:\n",
    "        tab[i][j]=2+lps_td(i+1,j-1)\n",
    "        return tab[i][j]\n",
    "    tab[i][j]=max(lps_td(i+1,j),lps_td(i,j-1))\n",
    "    return tab[i][j]"
   ]
  },
  {
   "cell_type": "code",
   "execution_count": 63,
   "metadata": {},
   "outputs": [
    {
     "data": {
      "text/plain": [
       "(7, 131)"
      ]
     },
     "execution_count": 63,
     "metadata": {},
     "output_type": "execute_result"
    }
   ],
   "source": [
    "func=0\n",
    "lps_td(0,len(word)-1),func"
   ]
  },
  {
   "cell_type": "code",
   "execution_count": 64,
   "metadata": {},
   "outputs": [
    {
     "data": {
      "text/plain": [
       "[[-1, -1, -1, -1, -1, -1, 3, 3, 3, 3, 3, 3, 5, 7],\n",
       " [-1, 1, 1, 1, 1, 1, 1, 1, 1, 1, 1, 3, 5, 7],\n",
       " [-1, -1, 1, 1, 1, 1, 1, 1, 1, 1, 1, 3, 5, 7],\n",
       " [-1, -1, -1, 1, 1, 1, 1, 1, 1, 1, 1, 3, 5, -1],\n",
       " [-1, -1, -1, -1, 1, 1, 1, 1, 1, 1, 1, 3, -1, -1],\n",
       " [-1, -1, -1, -1, -1, 1, 1, 1, 1, 1, 1, 3, -1, -1],\n",
       " [-1, -1, -1, -1, -1, -1, 1, 1, 1, 1, 1, 3, -1, -1],\n",
       " [-1, -1, -1, -1, -1, -1, -1, 1, 1, 1, 1, 3, -1, -1],\n",
       " [-1, -1, -1, -1, -1, -1, -1, -1, 1, 1, 1, 3, -1, -1],\n",
       " [-1, -1, -1, -1, -1, -1, -1, -1, -1, 1, 1, 3, -1, -1],\n",
       " [-1, -1, -1, -1, -1, -1, -1, -1, -1, -1, 1, -1, -1, -1],\n",
       " [-1, -1, -1, -1, -1, -1, -1, -1, -1, -1, -1, -1, -1, -1],\n",
       " [-1, -1, -1, -1, -1, -1, -1, -1, -1, -1, -1, -1, -1, -1],\n",
       " [-1, -1, -1, -1, -1, -1, -1, -1, -1, -1, -1, -1, -1, -1]]"
      ]
     },
     "execution_count": 64,
     "metadata": {},
     "output_type": "execute_result"
    }
   ],
   "source": [
    "tab"
   ]
  },
  {
   "cell_type": "code",
   "execution_count": 65,
   "metadata": {},
   "outputs": [],
   "source": [
    "def print_lps(i,j):\n",
    "    if i>j:return\n",
    "    if i==j:print(word[i],end=\"\");return\n",
    "    if word[i]==word[j]:\n",
    "        print(word[i],end=\"\")\n",
    "        print_lps(i+1,j-1)\n",
    "        print(word[j],end=\"\")\n",
    "    elif tab[i+1][j]>=tab[i][j-1]:\n",
    "        print_lps(i+1,j)\n",
    "    else:print_lps(i,j-1)     "
   ]
  },
  {
   "cell_type": "code",
   "execution_count": 66,
   "metadata": {},
   "outputs": [
    {
     "name": "stdout",
     "output_type": "stream",
     "text": [
      "deified"
     ]
    }
   ],
   "source": [
    "print_lps(0,len(word)-1)"
   ]
  },
  {
   "cell_type": "markdown",
   "metadata": {},
   "source": [
    "### Bottom Up"
   ]
  },
  {
   "cell_type": "code",
   "execution_count": 67,
   "metadata": {},
   "outputs": [],
   "source": [
    "tab_bu = [[0] * (len(word)) for _ in range(len(word))]"
   ]
  },
  {
   "cell_type": "code",
   "execution_count": 68,
   "metadata": {},
   "outputs": [],
   "source": [
    "def lps_bu(i,j):\n",
    "    global calls\n",
    "    if i>j:return 0\n",
    "    for k in range(j,i-1,-1):\n",
    "        for l in range(k,j+1):\n",
    "            calls+=1\n",
    "            if k==l:tab_bu[k][l]=1\n",
    "            elif word[k]==word[l]:\n",
    "                tab_bu[k][l]=2+tab_bu[k+1][l-1]\n",
    "            else:\n",
    "                tab_bu[k][l]=max(tab_bu[k+1][l],tab_bu[k][l-1])\n",
    "    return tab_bu[i][j]"
   ]
  },
  {
   "cell_type": "code",
   "execution_count": 69,
   "metadata": {},
   "outputs": [
    {
     "data": {
      "text/plain": [
       "(7, 105)"
      ]
     },
     "execution_count": 69,
     "metadata": {},
     "output_type": "execute_result"
    }
   ],
   "source": [
    "calls=0\n",
    "lps_bu(0,len(word)-1),calls"
   ]
  },
  {
   "cell_type": "code",
   "execution_count": 70,
   "metadata": {},
   "outputs": [
    {
     "data": {
      "text/plain": [
       "[[1, 1, 1, 1, 1, 1, 3, 3, 3, 3, 3, 3, 5, 7],\n",
       " [0, 1, 1, 1, 1, 1, 1, 1, 1, 1, 1, 3, 5, 7],\n",
       " [0, 0, 1, 1, 1, 1, 1, 1, 1, 1, 1, 3, 5, 7],\n",
       " [0, 0, 0, 1, 1, 1, 1, 1, 1, 1, 1, 3, 5, 5],\n",
       " [0, 0, 0, 0, 1, 1, 1, 1, 1, 1, 1, 3, 3, 3],\n",
       " [0, 0, 0, 0, 0, 1, 1, 1, 1, 1, 1, 3, 3, 3],\n",
       " [0, 0, 0, 0, 0, 0, 1, 1, 1, 1, 1, 3, 3, 3],\n",
       " [0, 0, 0, 0, 0, 0, 0, 1, 1, 1, 1, 3, 3, 3],\n",
       " [0, 0, 0, 0, 0, 0, 0, 0, 1, 1, 1, 3, 3, 3],\n",
       " [0, 0, 0, 0, 0, 0, 0, 0, 0, 1, 1, 3, 3, 3],\n",
       " [0, 0, 0, 0, 0, 0, 0, 0, 0, 0, 1, 1, 1, 1],\n",
       " [0, 0, 0, 0, 0, 0, 0, 0, 0, 0, 0, 1, 1, 1],\n",
       " [0, 0, 0, 0, 0, 0, 0, 0, 0, 0, 0, 0, 1, 1],\n",
       " [0, 0, 0, 0, 0, 0, 0, 0, 0, 0, 0, 0, 0, 1]]"
      ]
     },
     "execution_count": 70,
     "metadata": {},
     "output_type": "execute_result"
    }
   ],
   "source": [
    "tab_bu"
   ]
  },
  {
   "cell_type": "code",
   "execution_count": 71,
   "metadata": {},
   "outputs": [],
   "source": [
    "def print_lps_bu(i,j):\n",
    "    if i>j:return\n",
    "    if i==j:print(word[i],end=\"\");return\n",
    "    if word[i]==word[j]:\n",
    "        print(word[i],end=\"\")\n",
    "        print_lps_bu(i+1,j-1)\n",
    "        print(word[j],end=\"\")\n",
    "    elif tab[i+1][j]>=tab[i][j-1]:\n",
    "        print_lps_bu(i+1,j)\n",
    "    else:print_lps_bu(i,j-1)"
   ]
  },
  {
   "cell_type": "code",
   "execution_count": 72,
   "metadata": {},
   "outputs": [
    {
     "name": "stdout",
     "output_type": "stream",
     "text": [
      "deified"
     ]
    }
   ],
   "source": [
    "print_lps_bu(0,len(word)-1)"
   ]
  },
  {
   "cell_type": "code",
   "execution_count": null,
   "metadata": {},
   "outputs": [],
   "source": []
  }
 ],
 "metadata": {
  "kernelspec": {
   "display_name": "Python 3",
   "language": "python",
   "name": "python3"
  },
  "language_info": {
   "codemirror_mode": {
    "name": "ipython",
    "version": 3
   },
   "file_extension": ".py",
   "mimetype": "text/x-python",
   "name": "python",
   "nbconvert_exporter": "python",
   "pygments_lexer": "ipython3",
   "version": "3.7.3"
  }
 },
 "nbformat": 4,
 "nbformat_minor": 2
}
