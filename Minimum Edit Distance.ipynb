{
 "cells": [
  {
   "cell_type": "code",
   "execution_count": 1,
   "metadata": {},
   "outputs": [],
   "source": [
    "str1=\"abcd\"\n",
    "str2=\"xyabz\"\n",
    "#cat,cut\n",
    "#abcdef,azced\n",
    "#gemmek,gesek\n",
    "#sunday,saturday\n",
    "#abcd,xyabz"
   ]
  },
  {
   "cell_type": "code",
   "execution_count": 2,
   "metadata": {},
   "outputs": [],
   "source": [
    "def edit_distance(m,n):\n",
    "    if m==0 or n==0:return max(m,n)\n",
    "    if str1[m-1]==str2[n-1]:return edit_distance(m-1,n-1)\n",
    "    return 1+min(edit_distance(m-1,n-1),edit_distance(m,n-1),edit_distance(m-1,n))"
   ]
  },
  {
   "cell_type": "code",
   "execution_count": 3,
   "metadata": {},
   "outputs": [
    {
     "data": {
      "text/plain": [
       "4"
      ]
     },
     "execution_count": 3,
     "metadata": {},
     "output_type": "execute_result"
    }
   ],
   "source": [
    "edit_distance(len(str1),len(str2))"
   ]
  },
  {
   "cell_type": "markdown",
   "metadata": {},
   "source": [
    "### Top Down Code"
   ]
  },
  {
   "cell_type": "code",
   "execution_count": 4,
   "metadata": {},
   "outputs": [],
   "source": [
    "tab = [[-1] * (len(str2)+1) for _ in range(len(str1)+1)]"
   ]
  },
  {
   "cell_type": "code",
   "execution_count": 5,
   "metadata": {},
   "outputs": [],
   "source": [
    "def edit_distance_td(m,n):\n",
    "    if tab[m][n]!=-1:return tab[m][n]\n",
    "    if m==0 or n==0:tab[m][n]=max(m,n);return tab[m][n]\n",
    "    if str1[m-1]==str2[n-1]:\n",
    "        tab[m][n]=edit_distance_td(m-1,n-1)\n",
    "        return tab[m][n]\n",
    "    tab[m][n]=1+min(edit_distance_td(m-1,n-1),edit_distance_td(m,n-1),edit_distance_td(m-1,n))\n",
    "    return tab[m][n]"
   ]
  },
  {
   "cell_type": "code",
   "execution_count": 6,
   "metadata": {},
   "outputs": [
    {
     "data": {
      "text/plain": [
       "4"
      ]
     },
     "execution_count": 6,
     "metadata": {},
     "output_type": "execute_result"
    }
   ],
   "source": [
    "edit_distance_td(len(str1),len(str2))"
   ]
  },
  {
   "cell_type": "code",
   "execution_count": 7,
   "metadata": {},
   "outputs": [],
   "source": [
    "def ps_td(m,n):\n",
    "    if m==0 and n==0:print(\"------All Done------\")\n",
    "    elif m>0 and n==0:print(\"Delete\",str1[m-1],\"from position\",m-1);ps_td(m-1,n); \n",
    "    elif m==0 and n>0:print(\"Insert\",str2[n-1],\"at position\",m);ps_td(m,n-1);\n",
    "    elif str1[m-1]==str2[n-1]:ps_td(m-1,n-1)\n",
    "    elif tab[m-1][n-1]<tab[m-1][n] and tab[m-1][n-1]<tab[m][n-1]:\n",
    "        print(\"Replace\",str1[m-1],\"with\",str2[n-1],\"at position\",m-1)\n",
    "        ps_td(m-1,n-1)\n",
    "    elif tab[m][n-1]<tab[m-1][n-1] and tab[m][n-1]<tab[m-1][n]:\n",
    "        print(\"Insert\",str2[n-1],\"at position\",m)\n",
    "        ps_td(m,n-1)\n",
    "    else:\n",
    "        print(\"Delete\",str1[m-1],\"from position\",m-1)\n",
    "        ps_td(m-1,n)"
   ]
  },
  {
   "cell_type": "code",
   "execution_count": 8,
   "metadata": {},
   "outputs": [
    {
     "name": "stdout",
     "output_type": "stream",
     "text": [
      "Delete d from position 3\n",
      "Replace c with z at position 2\n",
      "Insert y at position 0\n",
      "Insert x at position 0\n",
      "------All Done------\n"
     ]
    }
   ],
   "source": [
    "ps_td(len(str1),len(str2))"
   ]
  },
  {
   "cell_type": "markdown",
   "metadata": {},
   "source": [
    "### Bottom Up"
   ]
  },
  {
   "cell_type": "code",
   "execution_count": 9,
   "metadata": {},
   "outputs": [],
   "source": [
    "tab_bu = [[0] * (len(str2)+1) for _ in range(len(str1)+1)]"
   ]
  },
  {
   "cell_type": "code",
   "execution_count": 10,
   "metadata": {},
   "outputs": [],
   "source": [
    "def edit_distance_bu(m,n):\n",
    "    for i in range(m+1):\n",
    "        for j in range(n+1):\n",
    "            if i==0 or j==0:\n",
    "                tab_bu[i][j]=max(i,j)\n",
    "            elif str1[i-1]==str2[j-1]:\n",
    "                tab_bu[i][j]=tab_bu[i-1][j-1]\n",
    "            else:\n",
    "                tab_bu[i][j]=1+min(tab_bu[i-1][j-1],tab_bu[i-1][j],tab_bu[i][j-1])\n",
    "    return tab_bu[m][n]"
   ]
  },
  {
   "cell_type": "code",
   "execution_count": 11,
   "metadata": {},
   "outputs": [
    {
     "data": {
      "text/plain": [
       "4"
      ]
     },
     "execution_count": 11,
     "metadata": {},
     "output_type": "execute_result"
    }
   ],
   "source": [
    "edit_distance_bu(len(str1),len(str2))"
   ]
  },
  {
   "cell_type": "code",
   "execution_count": 18,
   "metadata": {},
   "outputs": [],
   "source": [
    "def ps_bu(m,n):\n",
    "    if m==0 and n==0:print(\"------All Done------\")\n",
    "    elif m>0 and n==0:print(\"Delete\",str1[m-1],\"from position\",m-1);ps_bu(m-1,n); \n",
    "    elif m==0 and n>0:print(\"Insert\",str2[n-1],\"at position\",m);ps_bu(m,n-1);\n",
    "    elif str1[m-1]==str2[n-1]:ps_bu(m-1,n-1)\n",
    "    elif tab_bu[m-1][n-1]<=tab_bu[m-1][n] and tab_bu[m-1][n-1]<=tab_bu[m][n-1]:\n",
    "        print(\"Replace\",str1[m-1],\"with\",str2[n-1],\"at position\",m-1)\n",
    "        ps_bu(m-1,n-1)\n",
    "    elif tab_bu[m][n-1]<tab_bu[m-1][n-1] and tab_bu[m][n-1]<=tab_bu[m-1][n]:\n",
    "        print(\"Insert\",str2[n-1],\"at position\",m)\n",
    "        ps_bu(m,n-1)\n",
    "    else:\n",
    "        print(\"Delete\",str1[m-1],\"from position\",m-1)\n",
    "        ps_bu(m-1,n)"
   ]
  },
  {
   "cell_type": "code",
   "execution_count": 19,
   "metadata": {},
   "outputs": [
    {
     "name": "stdout",
     "output_type": "stream",
     "text": [
      "Replace d with z at position 3\n",
      "Delete c from position 2\n",
      "Insert y at position 0\n",
      "Insert x at position 0\n",
      "------All Done------\n"
     ]
    }
   ],
   "source": [
    "ps_bu(len(str1),len(str2))"
   ]
  },
  {
   "cell_type": "markdown",
   "metadata": {},
   "source": [
    "### Space efficient code O(min(m,n))"
   ]
  },
  {
   "cell_type": "code",
   "execution_count": 14,
   "metadata": {},
   "outputs": [],
   "source": [
    "def edit_distance_efficient(m,n):\n",
    "    if n<m:#length of 2nd string is smaller\n",
    "        tab_red=[0]*(n+1)\n",
    "        for i in range(m+1):\n",
    "            diagonal=i-1\n",
    "            for j in range(n+1):\n",
    "                if i==0 or j==0:\n",
    "                    tab_red[j]=max(i,j)\n",
    "                elif str1[i-1]==str2[j-1]:\n",
    "                    tab_red[j],diagonal=diagonal,tab_red[j]\n",
    "                else:\n",
    "                    tab_red[j],diagonal=1+min(diagonal,tab_red[j],tab_red[j-1]),tab_red[j]\n",
    "        return tab_red[n]\n",
    "    \n",
    "    else:#length of 1st string is smaller\n",
    "        tab_red=[0]*(m+1)\n",
    "        for j in range(n+1):\n",
    "            diagonal=j-1\n",
    "            for i in range(m+1):\n",
    "                if i==0 or j==0:\n",
    "                    tab_red[i]=max(i,j)\n",
    "                elif str1[i-1]==str2[j-1]:\n",
    "                    tab_red[i],diagonal=diagonal,tab_red[i]\n",
    "                else:\n",
    "                    tab_red[i],diagonal=1+min(diagonal,tab_red[i],tab_red[i-1]),tab_red[i]\n",
    "        return tab_red[m]       "
   ]
  },
  {
   "cell_type": "code",
   "execution_count": 15,
   "metadata": {},
   "outputs": [
    {
     "data": {
      "text/plain": [
       "4"
      ]
     },
     "execution_count": 15,
     "metadata": {},
     "output_type": "execute_result"
    }
   ],
   "source": [
    "edit_distance_efficient(len(str1),len(str2))"
   ]
  },
  {
   "cell_type": "code",
   "execution_count": 16,
   "metadata": {},
   "outputs": [],
   "source": [
    "def edit_distance_efficient2(m,n):\n",
    "    if m<n:a=m;b=n\n",
    "    else:a=n;b=m\n",
    "    tab_red=[0]*(a+1)\n",
    "    for i in range(b+1):\n",
    "        diagonal=i-1\n",
    "        for j in range(a+1):\n",
    "            if i==0 or j==0:\n",
    "                tab_red[j]=max(i,j)\n",
    "            elif m>=n and str1[i-1]==str2[j-1]:\n",
    "                tab_red[j],diagonal=diagonal,tab_red[j]\n",
    "            elif m<n and str1[j-1]==str2[i-1]:\n",
    "                tab_red[j],diagonal=diagonal,tab_red[j]\n",
    "            else:\n",
    "                tab_red[j],diagonal=1+min(diagonal,tab_red[j],tab_red[j-1]),tab_red[j]\n",
    "    return tab_red[a]"
   ]
  },
  {
   "cell_type": "code",
   "execution_count": 17,
   "metadata": {},
   "outputs": [
    {
     "data": {
      "text/plain": [
       "4"
      ]
     },
     "execution_count": 17,
     "metadata": {},
     "output_type": "execute_result"
    }
   ],
   "source": [
    "edit_distance_efficient2(len(str1),len(str2))"
   ]
  },
  {
   "cell_type": "code",
   "execution_count": null,
   "metadata": {},
   "outputs": [],
   "source": []
  }
 ],
 "metadata": {
  "kernelspec": {
   "display_name": "Python 3",
   "language": "python",
   "name": "python3"
  },
  "language_info": {
   "codemirror_mode": {
    "name": "ipython",
    "version": 3
   },
   "file_extension": ".py",
   "mimetype": "text/x-python",
   "name": "python",
   "nbconvert_exporter": "python",
   "pygments_lexer": "ipython3",
   "version": "3.7.3"
  }
 },
 "nbformat": 4,
 "nbformat_minor": 2
}
