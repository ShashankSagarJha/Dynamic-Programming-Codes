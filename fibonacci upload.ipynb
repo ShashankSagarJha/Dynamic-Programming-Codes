{
 "cells": [
  {
   "cell_type": "code",
   "execution_count": 1,
   "metadata": {},
   "outputs": [],
   "source": [
    "#fibonacci recursive program\n",
    "def fib(n):\n",
    "    if n<=2:\n",
    "        return 1\n",
    "    return fib(n-1)+fib(n-2)"
   ]
  },
  {
   "cell_type": "code",
   "execution_count": 67,
   "metadata": {},
   "outputs": [
    {
     "name": "stdout",
     "output_type": "stream",
     "text": [
      "Wall time: 0 ns\n"
     ]
    },
    {
     "data": {
      "text/plain": [
       "5"
      ]
     },
     "execution_count": 67,
     "metadata": {},
     "output_type": "execute_result"
    }
   ],
   "source": [
    "%%time\n",
    "fib(5)"
   ]
  },
  {
   "cell_type": "code",
   "execution_count": 69,
   "metadata": {},
   "outputs": [
    {
     "name": "stdout",
     "output_type": "stream",
     "text": [
      "Wall time: 997 µs\n"
     ]
    },
    {
     "data": {
      "text/plain": [
       "6765"
      ]
     },
     "execution_count": 69,
     "metadata": {},
     "output_type": "execute_result"
    }
   ],
   "source": [
    "%%time\n",
    "fib(20)"
   ]
  },
  {
   "cell_type": "code",
   "execution_count": 71,
   "metadata": {},
   "outputs": [
    {
     "name": "stdout",
     "output_type": "stream",
     "text": [
      "Wall time: 144 ms\n"
     ]
    },
    {
     "data": {
      "text/plain": [
       "832040"
      ]
     },
     "execution_count": 71,
     "metadata": {},
     "output_type": "execute_result"
    }
   ],
   "source": [
    "%%time\n",
    "fib(30)"
   ]
  },
  {
   "cell_type": "code",
   "execution_count": 73,
   "metadata": {},
   "outputs": [
    {
     "name": "stdout",
     "output_type": "stream",
     "text": [
      "Wall time: 1.57 s\n"
     ]
    },
    {
     "data": {
      "text/plain": [
       "9227465"
      ]
     },
     "execution_count": 73,
     "metadata": {},
     "output_type": "execute_result"
    }
   ],
   "source": [
    "%%time\n",
    "fib(35)"
   ]
  },
  {
   "cell_type": "code",
   "execution_count": 8,
   "metadata": {},
   "outputs": [
    {
     "name": "stdout",
     "output_type": "stream",
     "text": [
      "1 --- 1\n",
      "total time taken 0.0 seconds \n",
      "\n",
      "2 --- 1\n",
      "total time taken 0.0 seconds \n",
      "\n",
      "3 --- 2\n",
      "total time taken 0.0 seconds \n",
      "\n",
      "4 --- 3\n",
      "total time taken 0.0 seconds \n",
      "\n",
      "5 --- 5\n",
      "total time taken 0.0009737014770507812 seconds \n",
      "\n",
      "6 --- 8\n",
      "total time taken 0.0 seconds \n",
      "\n",
      "7 --- 13\n",
      "total time taken 0.0 seconds \n",
      "\n",
      "8 --- 21\n",
      "total time taken 0.0 seconds \n",
      "\n",
      "9 --- 34\n",
      "total time taken 0.0 seconds \n",
      "\n",
      "10 --- 55\n",
      "total time taken 0.0 seconds \n",
      "\n",
      "11 --- 89\n",
      "total time taken 0.0 seconds \n",
      "\n",
      "12 --- 144\n",
      "total time taken 0.0 seconds \n",
      "\n",
      "13 --- 233\n",
      "total time taken 0.0009975433349609375 seconds \n",
      "\n",
      "14 --- 377\n",
      "total time taken 0.0 seconds \n",
      "\n",
      "15 --- 610\n",
      "total time taken 0.0 seconds \n",
      "\n",
      "16 --- 987\n",
      "total time taken 0.000997304916381836 seconds \n",
      "\n",
      "17 --- 1597\n",
      "total time taken 0.0 seconds \n",
      "\n",
      "18 --- 2584\n",
      "total time taken 0.000997304916381836 seconds \n",
      "\n",
      "19 --- 4181\n",
      "total time taken 0.0009968280792236328 seconds \n",
      "\n",
      "20 --- 6765\n",
      "total time taken 0.001994609832763672 seconds \n",
      "\n",
      "21 --- 10946\n",
      "total time taken 0.0019943714141845703 seconds \n",
      "\n",
      "22 --- 17711\n",
      "total time taken 0.002993345260620117 seconds \n",
      "\n",
      "23 --- 28657\n",
      "total time taken 0.004985332489013672 seconds \n",
      "\n",
      "24 --- 46368\n",
      "total time taken 0.008002281188964844 seconds \n",
      "\n",
      "25 --- 75025\n",
      "total time taken 0.012942790985107422 seconds \n",
      "\n",
      "26 --- 121393\n",
      "total time taken 0.019945621490478516 seconds \n",
      "\n",
      "27 --- 196418\n",
      "total time taken 0.03297543525695801 seconds \n",
      "\n",
      "28 --- 317811\n",
      "total time taken 0.052858829498291016 seconds \n",
      "\n",
      "29 --- 514229\n",
      "total time taken 0.08479881286621094 seconds \n",
      "\n",
      "30 --- 832040\n",
      "total time taken 0.13863086700439453 seconds \n",
      "\n",
      "31 --- 1346269\n",
      "total time taken 0.21941924095153809 seconds \n",
      "\n",
      "32 --- 2178309\n",
      "total time taken 0.35304999351501465 seconds \n",
      "\n",
      "33 --- 3524578\n",
      "total time taken 0.5724427700042725 seconds \n",
      "\n",
      "34 --- 5702887\n",
      "total time taken 0.9265248775482178 seconds \n",
      "\n"
     ]
    }
   ],
   "source": [
    "import time\n",
    "time_list=[]\n",
    "for i in range(1,35):\n",
    "    start=time.time()\n",
    "    print(i,\"---\",fib(i))\n",
    "    end=time.time()\n",
    "    total_time=end-start\n",
    "    time_list.append(total_time)\n",
    "    print(\"total time taken {} seconds \\n\".format(total_time))\n",
    "    "
   ]
  },
  {
   "cell_type": "code",
   "execution_count": 9,
   "metadata": {},
   "outputs": [
    {
     "data": {
      "text/plain": [
       "<matplotlib.axes._subplots.AxesSubplot at 0x2678af13320>"
      ]
     },
     "execution_count": 9,
     "metadata": {},
     "output_type": "execute_result"
    },
    {
     "data": {
      "image/png": "[encoded data removed]",
      "text/plain": [
       "<Figure size 1008x576 with 1 Axes>"
      ]
     },
     "metadata": {
      "needs_background": "light"
     },
     "output_type": "display_data"
    }
   ],
   "source": [
    "import seaborn as sns\n",
    "import matplotlib.pyplot as plt\n",
    "%matplotlib inline\n",
    "plt.figure(figsize=(14,8))\n",
    "sns.lineplot(x=list(range(1,35)),y=time_list)"
   ]
  },
  {
   "cell_type": "code",
   "execution_count": 1,
   "metadata": {},
   "outputs": [],
   "source": [
    "fibo={1:1,2:1}\n",
    "def fib_topdown(n):\n",
    "    try:\n",
    "        return fibo[n]\n",
    "    except KeyError:\n",
    "        fibo[n]=fib_topdown(n-1)+fib_topdown(n-2)\n",
    "        return fibo[n]"
   ]
  },
  {
   "cell_type": "code",
   "execution_count": 66,
   "metadata": {},
   "outputs": [
    {
     "name": "stdout",
     "output_type": "stream",
     "text": [
      "Wall time: 0 ns\n"
     ]
    },
    {
     "data": {
      "text/plain": [
       "5"
      ]
     },
     "execution_count": 66,
     "metadata": {},
     "output_type": "execute_result"
    }
   ],
   "source": [
    "%%time\n",
    "fib_topdown(5)"
   ]
  },
  {
   "cell_type": "code",
   "execution_count": 2,
   "metadata": {},
   "outputs": [
    {
     "name": "stdout",
     "output_type": "stream",
     "text": [
      "Wall time: 0 ns\n"
     ]
    },
    {
     "data": {
      "text/plain": [
       "6765"
      ]
     },
     "execution_count": 2,
     "metadata": {},
     "output_type": "execute_result"
    }
   ],
   "source": [
    "%%time\n",
    "fib_topdown(20)"
   ]
  },
  {
   "cell_type": "code",
   "execution_count": 4,
   "metadata": {},
   "outputs": [
    {
     "name": "stdout",
     "output_type": "stream",
     "text": [
      "1 --> 1\n",
      "2 --> 1\n",
      "3 --> 2\n",
      "4 --> 3\n",
      "5 --> 5\n",
      "6 --> 8\n",
      "7 --> 13\n",
      "8 --> 21\n",
      "9 --> 34\n",
      "10 --> 55\n",
      "11 --> 89\n",
      "12 --> 144\n",
      "13 --> 233\n",
      "14 --> 377\n",
      "15 --> 610\n",
      "16 --> 987\n",
      "17 --> 1597\n",
      "18 --> 2584\n",
      "19 --> 4181\n",
      "20 --> 6765\n"
     ]
    }
   ],
   "source": [
    "for keys,values in fibo.items():\n",
    "    print(keys,\"-->\",values)"
   ]
  },
  {
   "cell_type": "code",
   "execution_count": 70,
   "metadata": {},
   "outputs": [
    {
     "name": "stdout",
     "output_type": "stream",
     "text": [
      "Wall time: 0 ns\n"
     ]
    },
    {
     "data": {
      "text/plain": [
       "832040"
      ]
     },
     "execution_count": 70,
     "metadata": {},
     "output_type": "execute_result"
    }
   ],
   "source": [
    "%%time\n",
    "fib_topdown(30)"
   ]
  },
  {
   "cell_type": "code",
   "execution_count": 72,
   "metadata": {},
   "outputs": [
    {
     "name": "stdout",
     "output_type": "stream",
     "text": [
      "Wall time: 0 ns\n"
     ]
    },
    {
     "data": {
      "text/plain": [
       "9227465"
      ]
     },
     "execution_count": 72,
     "metadata": {},
     "output_type": "execute_result"
    }
   ],
   "source": [
    "%%time\n",
    "fib_topdown(35)"
   ]
  },
  {
   "cell_type": "code",
   "execution_count": 7,
   "metadata": {},
   "outputs": [],
   "source": [
    "def fib(n):\n",
    "    a,b=1,1\n",
    "    for i in range(3,n+1):\n",
    "        print(a+b)\n",
    "        a,b=b,a+b"
   ]
  },
  {
   "cell_type": "code",
   "execution_count": 8,
   "metadata": {},
   "outputs": [
    {
     "name": "stdout",
     "output_type": "stream",
     "text": [
      "2\n",
      "3\n",
      "5\n",
      "8\n",
      "13\n",
      "21\n",
      "34\n",
      "55\n",
      "89\n",
      "144\n",
      "233\n",
      "377\n",
      "610\n",
      "987\n",
      "1597\n",
      "2584\n",
      "4181\n",
      "6765\n"
     ]
    }
   ],
   "source": [
    "fib(20)"
   ]
  },
  {
   "cell_type": "code",
   "execution_count": null,
   "metadata": {},
   "outputs": [],
   "source": []
  }
 ],
 "metadata": {
  "kernelspec": {
   "display_name": "Python 3",
   "language": "python",
   "name": "python3"
  },
  "language_info": {
   "codemirror_mode": {
    "name": "ipython",
    "version": 3
   },
   "file_extension": ".py",
   "mimetype": "text/x-python",
   "name": "python",
   "nbconvert_exporter": "python",
   "pygments_lexer": "ipython3",
   "version": "3.7.3"
  }
 },
 "nbformat": 4,
 "nbformat_minor": 2
}
