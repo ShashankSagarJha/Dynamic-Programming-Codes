{
 "cells": [
  {
   "cell_type": "code",
   "execution_count": 19,
   "metadata": {},
   "outputs": [],
   "source": [
    "import sys"
   ]
  },
  {
   "cell_type": "code",
   "execution_count": 20,
   "metadata": {},
   "outputs": [],
   "source": [
    "key=[10,20,30]\n",
    "f=[40,35,30]\n",
    "#key=[10,12,20]\n",
    "#f=[34,8,50]"
   ]
  },
  {
   "cell_type": "code",
   "execution_count": 21,
   "metadata": {},
   "outputs": [],
   "source": [
    "def opt_tree(i,j):\n",
    "    if i>j:return 0\n",
    "    if i==j:return f[i-1]\n",
    "    min_cost=sys.maxsize\n",
    "    for k in range(i,j+1):\n",
    "        cost=sum(f[i-1:j])+opt_tree(i,k-1)+opt_tree(k+1,j)\n",
    "        if cost<min_cost:\n",
    "            min_cost=cost\n",
    "    return min_cost"
   ]
  },
  {
   "cell_type": "code",
   "execution_count": 22,
   "metadata": {},
   "outputs": [
    {
     "data": {
      "text/plain": [
       "175"
      ]
     },
     "execution_count": 22,
     "metadata": {},
     "output_type": "execute_result"
    }
   ],
   "source": [
    "opt_search(1,len(f))"
   ]
  },
  {
   "cell_type": "markdown",
   "metadata": {},
   "source": [
    "## TopDown"
   ]
  },
  {
   "cell_type": "code",
   "execution_count": 23,
   "metadata": {},
   "outputs": [],
   "source": [
    "l=len(f)"
   ]
  },
  {
   "cell_type": "code",
   "execution_count": 24,
   "metadata": {},
   "outputs": [],
   "source": [
    "tab = [[-1] * (l+1) for i in range(l+1)]\n",
    "root=[[0] * (l+1) for i in range(l+1)]"
   ]
  },
  {
   "cell_type": "code",
   "execution_count": 25,
   "metadata": {},
   "outputs": [
    {
     "data": {
      "text/plain": [
       "[[-1, -1, -1, -1], [-1, -1, -1, -1], [-1, -1, -1, -1], [-1, -1, -1, -1]]"
      ]
     },
     "execution_count": 25,
     "metadata": {},
     "output_type": "execute_result"
    }
   ],
   "source": [
    "tab"
   ]
  },
  {
   "cell_type": "code",
   "execution_count": 26,
   "metadata": {},
   "outputs": [],
   "source": [
    "def opt_search_td(i,j):\n",
    "    if i>j:return 0\n",
    "    if tab[i][j]!=-1:return tab[i][j]\n",
    "    min_cost=sys.maxsize\n",
    "    for k in range(i,j+1):\n",
    "        cost=sum(f[i-1:j])+opt_search_td(i,k-1)+opt_search_td(k+1,j)\n",
    "        if cost<min_cost:\n",
    "            min_cost=cost\n",
    "            root[i][j]=k\n",
    "    tab[i][j]=min_cost\n",
    "    return tab[i][j]"
   ]
  },
  {
   "cell_type": "code",
   "execution_count": 27,
   "metadata": {},
   "outputs": [
    {
     "data": {
      "text/plain": [
       "175"
      ]
     },
     "execution_count": 27,
     "metadata": {},
     "output_type": "execute_result"
    }
   ],
   "source": [
    "opt_search_td(1,l)"
   ]
  },
  {
   "cell_type": "code",
   "execution_count": 28,
   "metadata": {},
   "outputs": [],
   "source": [
    "def ps_td(i,j):\n",
    "    if i<=j:\n",
    "        print(\"(\",end=\"\")\n",
    "        k=root[i][j]\n",
    "        ps_td(i,k-1)\n",
    "        print(key[k-1],end=\"\")\n",
    "        ps_td(k+1,j)\n",
    "        print(\")\",end=\"\")"
   ]
  },
  {
   "cell_type": "code",
   "execution_count": 29,
   "metadata": {},
   "outputs": [
    {
     "name": "stdout",
     "output_type": "stream",
     "text": [
      "((10)20(30))"
     ]
    }
   ],
   "source": [
    "ps_td(1,l)"
   ]
  },
  {
   "cell_type": "markdown",
   "metadata": {},
   "source": [
    "## BottomUp"
   ]
  },
  {
   "cell_type": "code",
   "execution_count": 30,
   "metadata": {},
   "outputs": [],
   "source": [
    "tab_bu= [[0] * (l+1) for i in range(l+1)]\n",
    "root_bu=[[0] * (l+1) for i in range(l+1)]"
   ]
  },
  {
   "cell_type": "code",
   "execution_count": 31,
   "metadata": {},
   "outputs": [],
   "source": [
    "def opt_search_bu(m,n):\n",
    "    for i in range(l,0,-1):\n",
    "        for j in range(i,l+1):\n",
    "            if i==j:tab_bu[i][i]=f[i-1];root_bu[i][i]=i\n",
    "            else:\n",
    "                min_cost=sys.maxsize\n",
    "                for k in range(i,j+1):\n",
    "                    cost=sum(f[i-1:j])\n",
    "                    if i<=k-1:cost+=tab[i][k-1]\n",
    "                    if k+1<=j:cost+=tab[k+1][j]\n",
    "                    if cost<min_cost:\n",
    "                        min_cost=cost\n",
    "                        root_bu[i][j]=k\n",
    "                tab_bu[i][j]=min_cost\n",
    "    return tab_bu[m][n]\n",
    "                        "
   ]
  },
  {
   "cell_type": "code",
   "execution_count": 32,
   "metadata": {},
   "outputs": [
    {
     "data": {
      "text/plain": [
       "175"
      ]
     },
     "execution_count": 32,
     "metadata": {},
     "output_type": "execute_result"
    }
   ],
   "source": [
    "opt_search_bu(1,l)"
   ]
  },
  {
   "cell_type": "code",
   "execution_count": 33,
   "metadata": {},
   "outputs": [],
   "source": [
    "def ps_bu(i,j):\n",
    "    if i<=j:\n",
    "        print(\"(\",end=\"\")\n",
    "        k=root_bu[i][j]\n",
    "        ps_bu(i,k-1)\n",
    "        print(key[k-1],end=\"\")\n",
    "        ps_bu(k+1,j)\n",
    "        print(\")\",end=\"\")"
   ]
  },
  {
   "cell_type": "code",
   "execution_count": 34,
   "metadata": {},
   "outputs": [
    {
     "name": "stdout",
     "output_type": "stream",
     "text": [
      "((10)20(30))"
     ]
    }
   ],
   "source": [
    "ps_bu(1,l)"
   ]
  },
  {
   "cell_type": "code",
   "execution_count": 35,
   "metadata": {},
   "outputs": [
    {
     "data": {
      "text/plain": [
       "[[-1, -1, -1, -1], [-1, 40, 110, 175], [-1, -1, 35, 95], [-1, -1, -1, 30]]"
      ]
     },
     "execution_count": 35,
     "metadata": {},
     "output_type": "execute_result"
    }
   ],
   "source": [
    "tab"
   ]
  },
  {
   "cell_type": "code",
   "execution_count": 36,
   "metadata": {},
   "outputs": [
    {
     "data": {
      "text/plain": [
       "[[0, 0, 0, 0], [0, 1, 1, 2], [0, 0, 2, 2], [0, 0, 0, 3]]"
      ]
     },
     "execution_count": 36,
     "metadata": {},
     "output_type": "execute_result"
    }
   ],
   "source": [
    "  root_bu"
   ]
  },
  {
   "cell_type": "code",
   "execution_count": null,
   "metadata": {},
   "outputs": [],
   "source": []
  }
 ],
 "metadata": {
  "kernelspec": {
   "display_name": "Python 3",
   "language": "python",
   "name": "python3"
  },
  "language_info": {
   "codemirror_mode": {
    "name": "ipython",
    "version": 3
   },
   "file_extension": ".py",
   "mimetype": "text/x-python",
   "name": "python",
   "nbconvert_exporter": "python",
   "pygments_lexer": "ipython3",
   "version": "3.7.3"
  }
 },
 "nbformat": 4,
 "nbformat_minor": 2
}
