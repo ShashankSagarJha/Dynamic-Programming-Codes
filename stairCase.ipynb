{
 "cells": [
  {
   "cell_type": "markdown",
   "metadata": {},
   "source": [
    "### Staircase Recursive Program"
   ]
  },
  {
   "cell_type": "code",
   "execution_count": null,
   "metadata": {},
   "outputs": [],
   "source": [
    "##why 3 base case??\n",
    "##Ans: Base case should cover all the option we can take-"
   ]
  },
  {
   "cell_type": "code",
   "execution_count": 9,
   "metadata": {},
   "outputs": [],
   "source": [
    "def s(n):\n",
    "    if n==1:return 1#1\n",
    "    if n==2:return 2#1,2\n",
    "    if n==3:return 4#1,2,3\n",
    "    return s(n-1)+s(n-2)+s(n-3)"
   ]
  },
  {
   "cell_type": "code",
   "execution_count": 10,
   "metadata": {},
   "outputs": [
    {
     "name": "stdout",
     "output_type": "stream",
     "text": [
      "Wall time: 0 ns\n"
     ]
    },
    {
     "data": {
      "text/plain": [
       "13"
      ]
     },
     "execution_count": 10,
     "metadata": {},
     "output_type": "execute_result"
    }
   ],
   "source": [
    "%%time\n",
    "s(5)"
   ]
  },
  {
   "cell_type": "code",
   "execution_count": 14,
   "metadata": {},
   "outputs": [
    {
     "name": "stdout",
     "output_type": "stream",
     "text": [
      "Wall time: 0 ns\n"
     ]
    },
    {
     "data": {
      "text/plain": [
       "24"
      ]
     },
     "execution_count": 14,
     "metadata": {},
     "output_type": "execute_result"
    }
   ],
   "source": [
    "%%time\n",
    "s(6)"
   ]
  },
  {
   "cell_type": "code",
   "execution_count": 11,
   "metadata": {},
   "outputs": [
    {
     "name": "stdout",
     "output_type": "stream",
     "text": [
      "Wall time: 0 ns\n"
     ]
    },
    {
     "data": {
      "text/plain": [
       "274"
      ]
     },
     "execution_count": 11,
     "metadata": {},
     "output_type": "execute_result"
    }
   ],
   "source": [
    "%%time\n",
    "s(10)"
   ]
  },
  {
   "cell_type": "code",
   "execution_count": 12,
   "metadata": {},
   "outputs": [
    {
     "name": "stdout",
     "output_type": "stream",
     "text": [
      "Wall time: 9.95 ms\n"
     ]
    },
    {
     "data": {
      "text/plain": [
       "121415"
      ]
     },
     "execution_count": 12,
     "metadata": {},
     "output_type": "execute_result"
    }
   ],
   "source": [
    "%%time\n",
    "s(20)"
   ]
  },
  {
   "cell_type": "code",
   "execution_count": 15,
   "metadata": {},
   "outputs": [
    {
     "name": "stdout",
     "output_type": "stream",
     "text": [
      "Wall time: 3.46 s\n"
     ]
    },
    {
     "data": {
      "text/plain": [
       "53798080"
      ]
     },
     "execution_count": 15,
     "metadata": {},
     "output_type": "execute_result"
    }
   ],
   "source": [
    "%%time\n",
    "s(30)"
   ]
  },
  {
   "cell_type": "code",
   "execution_count": 48,
   "metadata": {},
   "outputs": [
    {
     "name": "stdout",
     "output_type": "stream",
     "text": [
      "1 --> 1\n",
      "total time taken 0.0 seconds \n",
      "\n",
      "2 --> 2\n",
      "total time taken 0.0 seconds \n",
      "\n",
      "3 --> 4\n",
      "total time taken 0.0 seconds \n",
      "\n",
      "4 --> 7\n",
      "total time taken 0.0 seconds \n",
      "\n",
      "5 --> 13\n",
      "total time taken 0.0 seconds \n",
      "\n",
      "6 --> 24\n",
      "total time taken 0.0 seconds \n",
      "\n",
      "7 --> 44\n",
      "total time taken 0.0 seconds \n",
      "\n",
      "8 --> 81\n",
      "total time taken 0.0 seconds \n",
      "\n",
      "9 --> 149\n",
      "total time taken 0.0 seconds \n",
      "\n",
      "10 --> 274\n",
      "total time taken 0.0 seconds \n",
      "\n",
      "11 --> 504\n",
      "total time taken 0.0 seconds \n",
      "\n",
      "12 --> 927\n",
      "total time taken 0.0 seconds \n",
      "\n",
      "13 --> 1705\n",
      "total time taken 0.0 seconds \n",
      "\n",
      "14 --> 3136\n",
      "total time taken 0.0 seconds \n",
      "\n",
      "15 --> 5768\n",
      "total time taken 0.000997781753540039 seconds \n",
      "\n",
      "16 --> 10609\n",
      "total time taken 0.000997304916381836 seconds \n",
      "\n",
      "17 --> 19513\n",
      "total time taken 0.0009970664978027344 seconds \n",
      "\n",
      "18 --> 35890\n",
      "total time taken 0.001994609832763672 seconds \n",
      "\n",
      "19 --> 66012\n",
      "total time taken 0.004986763000488281 seconds \n",
      "\n",
      "20 --> 121415\n",
      "total time taken 0.008975982666015625 seconds \n",
      "\n",
      "21 --> 223317\n",
      "total time taken 0.014959335327148438 seconds \n",
      "\n",
      "22 --> 410744\n",
      "total time taken 0.026021957397460938 seconds \n",
      "\n",
      "23 --> 755476\n",
      "total time taken 0.04687380790710449 seconds \n",
      "\n",
      "24 --> 1389537\n",
      "total time taken 0.08727049827575684 seconds \n",
      "\n",
      "25 --> 2555757\n",
      "total time taken 0.15857577323913574 seconds \n",
      "\n",
      "26 --> 4700770\n",
      "total time taken 0.29421305656433105 seconds \n",
      "\n",
      "27 --> 8646064\n",
      "total time taken 0.5502183437347412 seconds \n",
      "\n",
      "28 --> 15902591\n",
      "total time taken 0.9894788265228271 seconds \n",
      "\n",
      "29 --> 29249425\n",
      "total time taken 1.8109025955200195 seconds \n",
      "\n",
      "30 --> 53798080\n",
      "total time taken 3.458744764328003 seconds \n",
      "\n",
      "31 --> 98950096\n",
      "total time taken 6.203889608383179 seconds \n",
      "\n",
      "32 --> 181997601\n",
      "total time taken 11.357523918151855 seconds \n",
      "\n"
     ]
    }
   ],
   "source": [
    "import time\n",
    "time_list=[]\n",
    "for i in range(1,33):\n",
    "    start=time.time()\n",
    "    print(i,\"-->\",s(i))\n",
    "    end=time.time()\n",
    "    total_time=end-start\n",
    "    time_list.append(total_time)\n",
    "    print(\"total time taken {} seconds \\n\".format(total_time))"
   ]
  },
  {
   "cell_type": "code",
   "execution_count": 50,
   "metadata": {},
   "outputs": [
    {
     "data": {
      "text/plain": [
       "<matplotlib.axes._subplots.AxesSubplot at 0x1817797f0f0>"
      ]
     },
     "execution_count": 50,
     "metadata": {},
     "output_type": "execute_result"
    },
    {
     "data": {
      "image/png": "[encoded data removed]",
      "text/plain": [
       "<Figure size 1008x432 with 1 Axes>"
      ]
     },
     "metadata": {
      "needs_background": "light"
     },
     "output_type": "display_data"
    }
   ],
   "source": [
    "import seaborn as sns\n",
    "import matplotlib.pyplot as plt\n",
    "%matplotlib inline\n",
    "plt.figure(figsize=(14,6))\n",
    "sns.lineplot(x=list(range(1,33)),y=time_list)"
   ]
  },
  {
   "cell_type": "markdown",
   "metadata": {},
   "source": [
    "### StairCase TopDown Program"
   ]
  },
  {
   "cell_type": "code",
   "execution_count": 61,
   "metadata": {},
   "outputs": [],
   "source": [
    "my_dict={1:1,2:2,3:4}\n",
    "def s_td(n):\n",
    "    try:\n",
    "        return my_dict[n]\n",
    "    except KeyError:\n",
    "        my_dict[n]=s_td(n-1)+s_td(n-2)+s_td(n-3)\n",
    "        return my_dict[n]"
   ]
  },
  {
   "cell_type": "code",
   "execution_count": 89,
   "metadata": {},
   "outputs": [
    {
     "name": "stdout",
     "output_type": "stream",
     "text": [
      "Wall time: 0 ns\n"
     ]
    },
    {
     "data": {
      "text/plain": [
       "13"
      ]
     },
     "execution_count": 89,
     "metadata": {},
     "output_type": "execute_result"
    }
   ],
   "source": [
    "%%time\n",
    "s_td(5)"
   ]
  },
  {
   "cell_type": "code",
   "execution_count": 90,
   "metadata": {},
   "outputs": [
    {
     "name": "stdout",
     "output_type": "stream",
     "text": [
      "Wall time: 0 ns\n"
     ]
    },
    {
     "data": {
      "text/plain": [
       "24"
      ]
     },
     "execution_count": 90,
     "metadata": {},
     "output_type": "execute_result"
    }
   ],
   "source": [
    "%%time\n",
    "s_td(6)"
   ]
  },
  {
   "cell_type": "code",
   "execution_count": 70,
   "metadata": {},
   "outputs": [
    {
     "name": "stdout",
     "output_type": "stream",
     "text": [
      "Wall time: 0 ns\n"
     ]
    },
    {
     "data": {
      "text/plain": [
       "121415"
      ]
     },
     "execution_count": 70,
     "metadata": {},
     "output_type": "execute_result"
    }
   ],
   "source": [
    "%%time\n",
    "s_td(20)"
   ]
  },
  {
   "cell_type": "code",
   "execution_count": 83,
   "metadata": {},
   "outputs": [
    {
     "name": "stdout",
     "output_type": "stream",
     "text": [
      "Wall time: 0 ns\n"
     ]
    },
    {
     "data": {
      "text/plain": [
       "53798080"
      ]
     },
     "execution_count": 83,
     "metadata": {},
     "output_type": "execute_result"
    }
   ],
   "source": [
    "%%time\n",
    "s_td(30)"
   ]
  },
  {
   "cell_type": "code",
   "execution_count": 31,
   "metadata": {},
   "outputs": [
    {
     "name": "stdout",
     "output_type": "stream",
     "text": [
      "Wall time: 0 ns\n"
     ]
    },
    {
     "data": {
      "text/plain": [
       "98950096"
      ]
     },
     "execution_count": 31,
     "metadata": {},
     "output_type": "execute_result"
    }
   ],
   "source": [
    "%%time\n",
    "s_td(31)"
   ]
  },
  {
   "cell_type": "markdown",
   "metadata": {},
   "source": [
    "### StairCase BottomUp Program"
   ]
  },
  {
   "cell_type": "code",
   "execution_count": 5,
   "metadata": {},
   "outputs": [],
   "source": [
    "def s_bu(n):\n",
    "    my_dict={1:1,2:2,3:4}\n",
    "    for i in range(4,n+1):\n",
    "        my_dict[i]=my_dict[i-1]+my_dict[i-2]+my_dict[i-3]\n",
    "    return my_dict[n]"
   ]
  },
  {
   "cell_type": "code",
   "execution_count": 6,
   "metadata": {},
   "outputs": [
    {
     "name": "stdout",
     "output_type": "stream",
     "text": [
      "Wall time: 0 ns\n"
     ]
    },
    {
     "data": {
      "text/plain": [
       "13"
      ]
     },
     "execution_count": 6,
     "metadata": {},
     "output_type": "execute_result"
    }
   ],
   "source": [
    "%%time\n",
    "s_bu(5)"
   ]
  },
  {
   "cell_type": "code",
   "execution_count": 7,
   "metadata": {},
   "outputs": [
    {
     "name": "stdout",
     "output_type": "stream",
     "text": [
      "Wall time: 0 ns\n"
     ]
    },
    {
     "data": {
      "text/plain": [
       "24"
      ]
     },
     "execution_count": 7,
     "metadata": {},
     "output_type": "execute_result"
    }
   ],
   "source": [
    "%%time\n",
    "s_bu(6)"
   ]
  },
  {
   "cell_type": "code",
   "execution_count": 8,
   "metadata": {},
   "outputs": [
    {
     "name": "stdout",
     "output_type": "stream",
     "text": [
      "Wall time: 0 ns\n"
     ]
    },
    {
     "data": {
      "text/plain": [
       "274"
      ]
     },
     "execution_count": 8,
     "metadata": {},
     "output_type": "execute_result"
    }
   ],
   "source": [
    "%%time\n",
    "s_bu(10)"
   ]
  },
  {
   "cell_type": "code",
   "execution_count": 13,
   "metadata": {},
   "outputs": [
    {
     "name": "stdout",
     "output_type": "stream",
     "text": [
      "Wall time: 0 ns\n"
     ]
    },
    {
     "data": {
      "text/plain": [
       "121415"
      ]
     },
     "execution_count": 13,
     "metadata": {},
     "output_type": "execute_result"
    }
   ],
   "source": [
    "%%time\n",
    "s_bu(20)"
   ]
  },
  {
   "cell_type": "code",
   "execution_count": 14,
   "metadata": {},
   "outputs": [
    {
     "name": "stdout",
     "output_type": "stream",
     "text": [
      "Wall time: 0 ns\n"
     ]
    },
    {
     "data": {
      "text/plain": [
       "53798080"
      ]
     },
     "execution_count": 14,
     "metadata": {},
     "output_type": "execute_result"
    }
   ],
   "source": [
    "%%time\n",
    "s_bu(30)"
   ]
  },
  {
   "cell_type": "markdown",
   "metadata": {},
   "source": [
    "### Best Program"
   ]
  },
  {
   "cell_type": "code",
   "execution_count": 40,
   "metadata": {},
   "outputs": [],
   "source": [
    "def s_best(n):\n",
    "    if n==1:return 1\n",
    "    if n==2:return 2\n",
    "    if n==3:return 4\n",
    "    s1=1;s2=2;s3=4\n",
    "    for i in range(4,n+1):\n",
    "        s3,s2,s1=s1+s2+s3,s3,s2\n",
    "    return s3"
   ]
  },
  {
   "cell_type": "code",
   "execution_count": 42,
   "metadata": {},
   "outputs": [
    {
     "data": {
      "text/plain": [
       "1"
      ]
     },
     "execution_count": 42,
     "metadata": {},
     "output_type": "execute_result"
    }
   ],
   "source": [
    "s_best(1)"
   ]
  },
  {
   "cell_type": "code",
   "execution_count": 43,
   "metadata": {},
   "outputs": [
    {
     "data": {
      "text/plain": [
       "13"
      ]
     },
     "execution_count": 43,
     "metadata": {},
     "output_type": "execute_result"
    }
   ],
   "source": [
    "s_best(5)"
   ]
  },
  {
   "cell_type": "code",
   "execution_count": 44,
   "metadata": {},
   "outputs": [
    {
     "data": {
      "text/plain": [
       "274"
      ]
     },
     "execution_count": 44,
     "metadata": {},
     "output_type": "execute_result"
    }
   ],
   "source": [
    "s_best(10)"
   ]
  },
  {
   "cell_type": "code",
   "execution_count": 45,
   "metadata": {},
   "outputs": [
    {
     "data": {
      "text/plain": [
       "121415"
      ]
     },
     "execution_count": 45,
     "metadata": {},
     "output_type": "execute_result"
    }
   ],
   "source": [
    "s_best(20)"
   ]
  },
  {
   "cell_type": "code",
   "execution_count": 46,
   "metadata": {},
   "outputs": [
    {
     "data": {
      "text/plain": [
       "53798080"
      ]
     },
     "execution_count": 46,
     "metadata": {},
     "output_type": "execute_result"
    }
   ],
   "source": [
    "s_best(30)"
   ]
  },
  {
   "cell_type": "markdown",
   "metadata": {},
   "source": [
    "### printing the ways"
   ]
  },
  {
   "cell_type": "code",
   "execution_count": 25,
   "metadata": {},
   "outputs": [],
   "source": [
    "def s_print(n,output):\n",
    "    global count\n",
    "    if n==0:\n",
    "        print(output)\n",
    "        count+=1\n",
    "    elif n==1:\n",
    "        s_print(0,output+\"1\")\n",
    "    elif n==2:\n",
    "        s_print(1,output+\"1,\")\n",
    "        s_print(0,output+\"2\")\n",
    "    elif n==3:\n",
    "        s_print(2,output+\"1,\")\n",
    "        s_print(1,output+\"2,\")\n",
    "        s_print(0,output+\"3\")\n",
    "    else:\n",
    "        s_print(n-1,output+\"1,\")\n",
    "        s_print(n-2,output+\"2,\")\n",
    "        s_print(n-3,output+\"3,\")"
   ]
  },
  {
   "cell_type": "code",
   "execution_count": 42,
   "metadata": {},
   "outputs": [],
   "source": [
    "count=0"
   ]
  },
  {
   "cell_type": "code",
   "execution_count": 43,
   "metadata": {},
   "outputs": [
    {
     "name": "stdout",
     "output_type": "stream",
     "text": [
      "1,1,1,1,1\n",
      "1,1,1,2\n",
      "1,1,2,1\n",
      "1,1,3\n",
      "1,2,1,1\n",
      "1,2,2\n",
      "1,3,1\n",
      "2,1,1,1\n",
      "2,1,2\n",
      "2,2,1\n",
      "2,3\n",
      "3,1,1\n",
      "3,2\n"
     ]
    }
   ],
   "source": [
    "s_print(5,\"\")"
   ]
  },
  {
   "cell_type": "code",
   "execution_count": 44,
   "metadata": {},
   "outputs": [
    {
     "name": "stdout",
     "output_type": "stream",
     "text": [
      "Total number of ways: 13\n"
     ]
    }
   ],
   "source": [
    "print(\"Total number of ways:\",count)"
   ]
  },
  {
   "cell_type": "code",
   "execution_count": null,
   "metadata": {},
   "outputs": [],
   "source": []
  }
 ],
 "metadata": {
  "kernelspec": {
   "display_name": "Python 3",
   "language": "python",
   "name": "python3"
  },
  "language_info": {
   "codemirror_mode": {
    "name": "ipython",
    "version": 3
   },
   "file_extension": ".py",
   "mimetype": "text/x-python",
   "name": "python",
   "nbconvert_exporter": "python",
   "pygments_lexer": "ipython3",
   "version": "3.7.3"
  }
 },
 "nbformat": 4,
 "nbformat_minor": 2
}
