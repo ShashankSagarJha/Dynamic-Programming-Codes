{
 "cells": [
  {
   "cell_type": "markdown",
   "metadata": {},
   "source": [
    "### Longest Common Subsequence Recursive"
   ]
  },
  {
   "cell_type": "code",
   "execution_count": 2,
   "metadata": {},
   "outputs": [],
   "source": [
    "def lcs(l1,l2):\n",
    "    if l1==0 or l2==0:return 0\n",
    "    if w1[l1-1]==w2[l2-1]:return 1+lcs(l1-1,l2-1)\n",
    "    return max(lcs(l1,l2-1),lcs(l1-1,l2))"
   ]
  },
  {
   "cell_type": "code",
   "execution_count": 21,
   "metadata": {},
   "outputs": [],
   "source": [
    "w1=\"abcdefghijklmno\"\n",
    "w2=w1[::-1]\n",
    "#LCS for input Sequences “ABCDGH” and “AEDFHR” is “ADH” of length 3.\n",
    "#LCS for input Sequences “AGGTAB” and “GXTXAYB” is “GTAB” of length 4."
   ]
  },
  {
   "cell_type": "code",
   "execution_count": null,
   "metadata": {},
   "outputs": [],
   "source": [
    "%%time\n",
    "lcs(len(w1),len(w2))"
   ]
  },
  {
   "cell_type": "markdown",
   "metadata": {},
   "source": [
    "### Longest Common Subsequence TopDown"
   ]
  },
  {
   "cell_type": "code",
   "execution_count": null,
   "metadata": {},
   "outputs": [],
   "source": [
    "tab = [[-1] * (len(w2)+1) for i in range(len(w1)+1)]"
   ]
  },
  {
   "cell_type": "code",
   "execution_count": null,
   "metadata": {},
   "outputs": [],
   "source": [
    "def lcs_td(l1,l2):\n",
    "    if l1==0 or l2==0:return 0\n",
    "    if tab[l1][l2]!=-1:\n",
    "        return tab[l1][l2]\n",
    "    if w1[l1-1]==w2[l2-1]:\n",
    "        tab[l1][l2]=1+lcs_td(l1-1,l2-1)\n",
    "        return tab[l1][l2]\n",
    "    tab[l1][l2]=max(lcs_td(l1,l2-1),lcs_td(l1-1,l2))\n",
    "    return tab[l1][l2]"
   ]
  },
  {
   "cell_type": "code",
   "execution_count": null,
   "metadata": {},
   "outputs": [],
   "source": [
    "%%time\n",
    "lcs_td(len(w1),len(w2))"
   ]
  },
  {
   "cell_type": "code",
   "execution_count": null,
   "metadata": {},
   "outputs": [],
   "source": [
    "tab"
   ]
  },
  {
   "cell_type": "markdown",
   "metadata": {},
   "source": [
    "### Longest Common Subsequence Bottom Up"
   ]
  },
  {
   "cell_type": "code",
   "execution_count": 17,
   "metadata": {},
   "outputs": [],
   "source": [
    "tab_bu = [[0] * (len(w2)+1) for i in range(len(w1)+1)]"
   ]
  },
  {
   "cell_type": "code",
   "execution_count": 18,
   "metadata": {},
   "outputs": [],
   "source": [
    "def bu_lcs(l1,l2):\n",
    "    for i in range(1,l1+1):#As 1st row and column is already filled with 0 we will update row & column 1 onward\n",
    "        for j in range(1,l2+1):\n",
    "            if w1[i-1]==w2[j-1]:\n",
    "                tab_bu[i][j]=1+tab_bu[i-1][j-1]\n",
    "            else:\n",
    "                tab_bu[i][j]=max(tab_bu[i][j-1],tab_bu[i-1][j])\n",
    "    return tab_bu[l1][l2]"
   ]
  },
  {
   "cell_type": "code",
   "execution_count": 19,
   "metadata": {},
   "outputs": [
    {
     "name": "stdout",
     "output_type": "stream",
     "text": [
      "Wall time: 0 ns\n"
     ]
    },
    {
     "data": {
      "text/plain": [
       "4"
      ]
     },
     "execution_count": 19,
     "metadata": {},
     "output_type": "execute_result"
    }
   ],
   "source": [
    "%%time\n",
    "bu_lcs(len(w1),len(w2))"
   ]
  },
  {
   "cell_type": "code",
   "execution_count": 20,
   "metadata": {},
   "outputs": [
    {
     "data": {
      "text/plain": [
       "[[0, 0, 0, 0, 0, 0, 0, 0],\n",
       " [0, 0, 0, 0, 0, 1, 1, 1],\n",
       " [0, 1, 1, 1, 1, 1, 1, 1],\n",
       " [0, 1, 1, 1, 1, 1, 1, 1],\n",
       " [0, 1, 1, 2, 2, 2, 2, 2],\n",
       " [0, 1, 1, 2, 2, 3, 3, 3],\n",
       " [0, 1, 1, 2, 2, 3, 3, 4]]"
      ]
     },
     "execution_count": 20,
     "metadata": {},
     "output_type": "execute_result"
    }
   ],
   "source": [
    "tab_bu"
   ]
  },
  {
   "cell_type": "code",
   "execution_count": null,
   "metadata": {},
   "outputs": [],
   "source": []
  },
  {
   "cell_type": "code",
   "execution_count": null,
   "metadata": {},
   "outputs": [],
   "source": []
  },
  {
   "cell_type": "code",
   "execution_count": null,
   "metadata": {},
   "outputs": [],
   "source": []
  },
  {
   "cell_type": "code",
   "execution_count": null,
   "metadata": {},
   "outputs": [],
   "source": []
  },
  {
   "cell_type": "code",
   "execution_count": null,
   "metadata": {},
   "outputs": [],
   "source": []
  },
  {
   "cell_type": "code",
   "execution_count": null,
   "metadata": {},
   "outputs": [],
   "source": []
  },
  {
   "cell_type": "code",
   "execution_count": null,
   "metadata": {},
   "outputs": [],
   "source": []
  },
  {
   "cell_type": "code",
   "execution_count": null,
   "metadata": {},
   "outputs": [],
   "source": []
  },
  {
   "cell_type": "code",
   "execution_count": null,
   "metadata": {},
   "outputs": [],
   "source": []
  },
  {
   "cell_type": "code",
   "execution_count": null,
   "metadata": {},
   "outputs": [],
   "source": []
  },
  {
   "cell_type": "markdown",
   "metadata": {},
   "source": [
    "### Printing Solution"
   ]
  },
  {
   "cell_type": "code",
   "execution_count": null,
   "metadata": {},
   "outputs": [],
   "source": [
    "def print_lcs(l1,l2):\n",
    "    if l1==0 or l2==0:return 0\n",
    "    if w1[l1-1]==w2[l2-1]:\n",
    "        print_lcs(l1-1,l2-1)\n",
    "        print(w1[l1-1],end=\"\")\n",
    "    elif tab[l1-1][l2]>tab[l1][l2-1]:\n",
    "        print_lcs(l1-1,l2)\n",
    "    else:\n",
    "        print_lcs(l1,l2-1)"
   ]
  },
  {
   "cell_type": "code",
   "execution_count": null,
   "metadata": {},
   "outputs": [],
   "source": [
    "print_lcs(len(w1),len(w2))"
   ]
  },
  {
   "cell_type": "code",
   "execution_count": null,
   "metadata": {},
   "outputs": [],
   "source": [
    "def print_lcs(l1,l2,output):\n",
    "    if l1==0 or l2==0:return output\n",
    "    if w1[l1-1]==w2[l2-1]:\n",
    "        return print_lcs(l1-1,l2-1,w1[l1-1]+output)\n",
    "    elif tab[l1-1][l2]>tab[l1][l2-1]:\n",
    "        return print_lcs(l1-1,l2,output)\n",
    "    else:\n",
    "        return print_lcs(l1,l2-1,output)"
   ]
  },
  {
   "cell_type": "code",
   "execution_count": null,
   "metadata": {},
   "outputs": [],
   "source": [
    "print_lcs(len(w1),len(w2),\"\")"
   ]
  },
  {
   "cell_type": "code",
   "execution_count": null,
   "metadata": {},
   "outputs": [],
   "source": []
  },
  {
   "cell_type": "code",
   "execution_count": null,
   "metadata": {},
   "outputs": [],
   "source": []
  }
 ],
 "metadata": {
  "kernelspec": {
   "display_name": "Python 3",
   "language": "python",
   "name": "python3"
  },
  "language_info": {
   "codemirror_mode": {
    "name": "ipython",
    "version": 3
   },
   "file_extension": ".py",
   "mimetype": "text/x-python",
   "name": "python",
   "nbconvert_exporter": "python",
   "pygments_lexer": "ipython3",
   "version": "3.7.3"
  }
 },
 "nbformat": 4,
 "nbformat_minor": 2
}
