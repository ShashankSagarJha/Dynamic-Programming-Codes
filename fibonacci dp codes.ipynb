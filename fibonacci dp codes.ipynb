{
 "cells": [
  {
   "cell_type": "code",
   "execution_count": 1,
   "metadata": {},
   "outputs": [],
   "source": [
    "def fib(num):\n",
    "    if num==1:return 0\n",
    "    if num==2:return 1\n",
    "    return fib(num-1)+fib(num-2)"
   ]
  },
  {
   "cell_type": "code",
   "execution_count": 2,
   "metadata": {},
   "outputs": [
    {
     "name": "stdout",
     "output_type": "stream",
     "text": [
      "Wall time: 18 s\n"
     ]
    },
    {
     "data": {
      "text/plain": [
       "63245986"
      ]
     },
     "execution_count": 2,
     "metadata": {},
     "output_type": "execute_result"
    }
   ],
   "source": [
    "%%time\n",
    "fib(40)"
   ]
  },
  {
   "cell_type": "code",
   "execution_count": 3,
   "metadata": {},
   "outputs": [
    {
     "name": "stdout",
     "output_type": "stream",
     "text": [
      "Wall time: 29.2 s\n"
     ]
    },
    {
     "data": {
      "text/plain": [
       "102334155"
      ]
     },
     "execution_count": 3,
     "metadata": {},
     "output_type": "execute_result"
    }
   ],
   "source": [
    "%%time\n",
    "fib(41)"
   ]
  },
  {
   "cell_type": "code",
   "execution_count": 4,
   "metadata": {},
   "outputs": [
    {
     "name": "stdout",
     "output_type": "stream",
     "text": [
      "Wall time: 47.8 s\n"
     ]
    },
    {
     "data": {
      "text/plain": [
       "165580141"
      ]
     },
     "execution_count": 4,
     "metadata": {},
     "output_type": "execute_result"
    }
   ],
   "source": [
    "%%time\n",
    "fib(42)"
   ]
  },
  {
   "cell_type": "code",
   "execution_count": 5,
   "metadata": {},
   "outputs": [],
   "source": [
    "fibo={1:0,2:1}"
   ]
  },
  {
   "cell_type": "code",
   "execution_count": 6,
   "metadata": {},
   "outputs": [],
   "source": [
    "def fib_topdown(num):\n",
    "    if num==1:return 0\n",
    "    if num==2:return 1    \n",
    "    try:\n",
    "        return fibo[num]\n",
    "    except KeyError:\n",
    "        fibo[num]=fib_topdown(num-1)+fib_topdown(num-2)\n",
    "        return fibo[num]"
   ]
  },
  {
   "cell_type": "code",
   "execution_count": 7,
   "metadata": {},
   "outputs": [
    {
     "name": "stdout",
     "output_type": "stream",
     "text": [
      "Wall time: 0 ns\n"
     ]
    },
    {
     "data": {
      "text/plain": [
       "701408733"
      ]
     },
     "execution_count": 7,
     "metadata": {},
     "output_type": "execute_result"
    }
   ],
   "source": [
    "%%time\n",
    "fib_topdown(45)"
   ]
  },
  {
   "cell_type": "code",
   "execution_count": 8,
   "metadata": {},
   "outputs": [
    {
     "data": {
      "text/plain": [
       "{1: 0,\n",
       " 2: 1,\n",
       " 3: 1,\n",
       " 4: 2,\n",
       " 5: 3,\n",
       " 6: 5,\n",
       " 7: 8,\n",
       " 8: 13,\n",
       " 9: 21,\n",
       " 10: 34,\n",
       " 11: 55,\n",
       " 12: 89,\n",
       " 13: 144,\n",
       " 14: 233,\n",
       " 15: 377,\n",
       " 16: 610,\n",
       " 17: 987,\n",
       " 18: 1597,\n",
       " 19: 2584,\n",
       " 20: 4181,\n",
       " 21: 6765,\n",
       " 22: 10946,\n",
       " 23: 17711,\n",
       " 24: 28657,\n",
       " 25: 46368,\n",
       " 26: 75025,\n",
       " 27: 121393,\n",
       " 28: 196418,\n",
       " 29: 317811,\n",
       " 30: 514229,\n",
       " 31: 832040,\n",
       " 32: 1346269,\n",
       " 33: 2178309,\n",
       " 34: 3524578,\n",
       " 35: 5702887,\n",
       " 36: 9227465,\n",
       " 37: 14930352,\n",
       " 38: 24157817,\n",
       " 39: 39088169,\n",
       " 40: 63245986,\n",
       " 41: 102334155,\n",
       " 42: 165580141,\n",
       " 43: 267914296,\n",
       " 44: 433494437,\n",
       " 45: 701408733}"
      ]
     },
     "execution_count": 8,
     "metadata": {},
     "output_type": "execute_result"
    }
   ],
   "source": [
    "fibo"
   ]
  },
  {
   "cell_type": "code",
   "execution_count": 9,
   "metadata": {},
   "outputs": [],
   "source": [
    "def fib_bottomUp(num):\n",
    "    fibo={1:0,2:1}\n",
    "    for i in range(3,num+1):\n",
    "        fibo[i]=fibo[i-1]+fibo[i-2]\n",
    "    return fibo[num]"
   ]
  },
  {
   "cell_type": "code",
   "execution_count": 10,
   "metadata": {},
   "outputs": [
    {
     "name": "stdout",
     "output_type": "stream",
     "text": [
      "45th fibonacci numberb is 701408733 \n"
     ]
    }
   ],
   "source": [
    "print(\"45th fibonacci numberb is {} \".format(fib_bottomUp(45)))"
   ]
  },
  {
   "cell_type": "code",
   "execution_count": 26,
   "metadata": {},
   "outputs": [],
   "source": [
    "class fibonacci:\n",
    "    fibo={1:0,2:1}\n",
    "    def __init__(self,num):\n",
    "        self.num=num;\n",
    "    def fib_topdown(self):\n",
    "        if self.num==1:return 0\n",
    "        if  self.num==2:return 1    \n",
    "        try:\n",
    "            return fibo[self.num]\n",
    "        except KeyError:\n",
    "            fibo[self.num]=fib_topdown( self.num-1)+fib_topdown(self.num-2)\n",
    "            return fibo[self.num]\n",
    "    def fib_bottomUp(self):\n",
    "        fibo={1:0,2:1}\n",
    "        for i in range(3,self.num+1):\n",
    "            fibo[i]=fibo[i-1]+fibo[i-2]\n",
    "        return fibo[self.num]\n",
    "    def fib(self):\n",
    "        if self.num==1:return 0\n",
    "        if self.num==2:return 1\n",
    "        return fib(self.num-1)+fib(self.num-2)"
   ]
  },
  {
   "cell_type": "code",
   "execution_count": 27,
   "metadata": {},
   "outputs": [],
   "source": [
    "test=fibonacci(47)"
   ]
  },
  {
   "cell_type": "code",
   "execution_count": 28,
   "metadata": {},
   "outputs": [
    {
     "name": "stdout",
     "output_type": "stream",
     "text": [
      "Wall time: 0 ns\n"
     ]
    },
    {
     "data": {
      "text/plain": [
       "1836311903"
      ]
     },
     "execution_count": 28,
     "metadata": {},
     "output_type": "execute_result"
    }
   ],
   "source": [
    "%%time\n",
    "test.fib_topdown()"
   ]
  },
  {
   "cell_type": "code",
   "execution_count": 29,
   "metadata": {},
   "outputs": [
    {
     "name": "stdout",
     "output_type": "stream",
     "text": [
      "Wall time: 0 ns\n"
     ]
    },
    {
     "data": {
      "text/plain": [
       "1836311903"
      ]
     },
     "execution_count": 29,
     "metadata": {},
     "output_type": "execute_result"
    }
   ],
   "source": [
    "%%time\n",
    "test.fib_bottomUp()"
   ]
  },
  {
   "cell_type": "code",
   "execution_count": 24,
   "metadata": {},
   "outputs": [
    {
     "name": "stdout",
     "output_type": "stream",
     "text": [
      "Wall time: 9min 9s\n"
     ]
    },
    {
     "data": {
      "text/plain": [
       "1836311903"
      ]
     },
     "execution_count": 24,
     "metadata": {},
     "output_type": "execute_result"
    }
   ],
   "source": [
    "%%time\n",
    "test.fib()"
   ]
  },
  {
   "cell_type": "code",
   "execution_count": null,
   "metadata": {},
   "outputs": [],
   "source": []
  }
 ],
 "metadata": {
  "kernelspec": {
   "display_name": "Python 3",
   "language": "python",
   "name": "python3"
  },
  "language_info": {
   "codemirror_mode": {
    "name": "ipython",
    "version": 3
   },
   "file_extension": ".py",
   "mimetype": "text/x-python",
   "name": "python",
   "nbconvert_exporter": "python",
   "pygments_lexer": "ipython3",
   "version": "3.7.3"
  }
 },
 "nbformat": 4,
 "nbformat_minor": 2
}
