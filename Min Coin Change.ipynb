{
 "cells": [
  {
   "cell_type": "code",
   "execution_count": 97,
   "metadata": {},
   "outputs": [],
   "source": [
    "coins= [1,5,6,9]\n",
    "V = 11"
   ]
  },
  {
   "cell_type": "code",
   "execution_count": 98,
   "metadata": {},
   "outputs": [],
   "source": [
    "import sys"
   ]
  },
  {
   "cell_type": "code",
   "execution_count": 99,
   "metadata": {},
   "outputs": [],
   "source": [
    "def minChange(val):\n",
    "    global calls\n",
    "    calls+=1\n",
    "    if val<0:return sys.maxsize\n",
    "    if val==0:return 0\n",
    "    min_coin=sys.maxsize\n",
    "    for c in coins:\n",
    "        coin_needed=1+minChange(val-c)\n",
    "        if coin_needed<min_coin:min_coin=coin_needed\n",
    "    return min_coin"
   ]
  },
  {
   "cell_type": "code",
   "execution_count": 100,
   "metadata": {},
   "outputs": [
    {
     "data": {
      "text/plain": [
       "(2, 205)"
      ]
     },
     "execution_count": 100,
     "metadata": {},
     "output_type": "execute_result"
    }
   ],
   "source": [
    "calls=0\n",
    "minChange(V),calls"
   ]
  },
  {
   "cell_type": "code",
   "execution_count": 101,
   "metadata": {},
   "outputs": [
    {
     "data": {
      "text/plain": [
       "[-1, -1, -1, -1, -1, -1, -1, -1, -1, -1, -1, -1]"
      ]
     },
     "execution_count": 101,
     "metadata": {},
     "output_type": "execute_result"
    }
   ],
   "source": [
    "coin_arr= [-1]*(V+1)\n",
    "coin_arr"
   ]
  },
  {
   "cell_type": "code",
   "execution_count": 102,
   "metadata": {},
   "outputs": [],
   "source": [
    "def minChangeTD(val):\n",
    "    global min_call\n",
    "    min_call+=1\n",
    "    if val<0:return sys.maxsize\n",
    "    if coin_arr[val]!=-1:return coin_arr[val]\n",
    "    if val==0:coin_arr[val]=0;return 0\n",
    "    min_coin=sys.maxsize\n",
    "    for c in coins:\n",
    "        coin_needed=1+minChangeTD(val-c)\n",
    "        if coin_needed<min_coin:min_coin=coin_needed\n",
    "    coin_arr[val]=min_coin\n",
    "    return coin_arr[val]"
   ]
  },
  {
   "cell_type": "code",
   "execution_count": 103,
   "metadata": {},
   "outputs": [
    {
     "data": {
      "text/plain": [
       "(2, 45)"
      ]
     },
     "execution_count": 103,
     "metadata": {},
     "output_type": "execute_result"
    }
   ],
   "source": [
    "min_call=0\n",
    "minChangeTD(V),min_call"
   ]
  },
  {
   "cell_type": "code",
   "execution_count": 104,
   "metadata": {},
   "outputs": [
    {
     "data": {
      "text/plain": [
       "[0, 1, 2, 3, 4, 1, 1, 2, 3, 1, 2, 2]"
      ]
     },
     "execution_count": 104,
     "metadata": {},
     "output_type": "execute_result"
    }
   ],
   "source": [
    "coin_arr"
   ]
  },
  {
   "cell_type": "code",
   "execution_count": 105,
   "metadata": {},
   "outputs": [],
   "source": [
    "tab = [0] * (V+1)\n",
    "coin_taken=[0] * (V+1)"
   ]
  },
  {
   "cell_type": "code",
   "execution_count": 106,
   "metadata": {},
   "outputs": [
    {
     "data": {
      "text/plain": [
       "[0, 0, 0, 0, 0, 0, 0, 0, 0, 0, 0, 0]"
      ]
     },
     "execution_count": 106,
     "metadata": {},
     "output_type": "execute_result"
    }
   ],
   "source": [
    "tab"
   ]
  },
  {
   "cell_type": "code",
   "execution_count": 107,
   "metadata": {},
   "outputs": [],
   "source": [
    "def coin_bu(Val):\n",
    "    for i in range(1,Val+1):\n",
    "        min_coin=sys.maxsize\n",
    "        for c in coins:\n",
    "            if i>=c:\n",
    "                coin_used=1+tab[i-c]\n",
    "                if coin_used<min_coin:\n",
    "                    min_coin=coin_used\n",
    "                    coin_taken[i]=c\n",
    "        tab[i]=min_coin\n",
    "    return tab[Val]"
   ]
  },
  {
   "cell_type": "code",
   "execution_count": 108,
   "metadata": {},
   "outputs": [
    {
     "data": {
      "text/plain": [
       "2"
      ]
     },
     "execution_count": 108,
     "metadata": {},
     "output_type": "execute_result"
    }
   ],
   "source": [
    "coin_bu(V)"
   ]
  },
  {
   "cell_type": "code",
   "execution_count": 109,
   "metadata": {},
   "outputs": [
    {
     "name": "stdout",
     "output_type": "stream",
     "text": [
      "0 -> 0\n",
      "1 -> 1\n",
      "2 -> 2\n",
      "3 -> 3\n",
      "4 -> 4\n",
      "5 -> 1\n",
      "6 -> 1\n",
      "7 -> 2\n",
      "8 -> 3\n",
      "9 -> 1\n",
      "10 -> 2\n",
      "11 -> 2\n"
     ]
    }
   ],
   "source": [
    "for i,v in enumerate(tab):\n",
    "    print(i,\"->\",v)"
   ]
  },
  {
   "cell_type": "code",
   "execution_count": 110,
   "metadata": {},
   "outputs": [
    {
     "data": {
      "text/plain": [
       "[0, 1, 1, 1, 1, 5, 6, 1, 1, 9, 1, 5]"
      ]
     },
     "execution_count": 110,
     "metadata": {},
     "output_type": "execute_result"
    }
   ],
   "source": [
    "coin_taken"
   ]
  },
  {
   "cell_type": "code",
   "execution_count": 111,
   "metadata": {},
   "outputs": [],
   "source": [
    "def printing_coins(val):\n",
    "    if val==0:return\n",
    "    c=coin_taken[val]\n",
    "    printing_coins(val-c)\n",
    "    print(c,end=\",\")"
   ]
  },
  {
   "cell_type": "code",
   "execution_count": 112,
   "metadata": {},
   "outputs": [
    {
     "name": "stdout",
     "output_type": "stream",
     "text": [
      "6,5,"
     ]
    }
   ],
   "source": [
    "printing_coins(V)"
   ]
  },
  {
   "cell_type": "code",
   "execution_count": null,
   "metadata": {},
   "outputs": [],
   "source": []
  }
 ],
 "metadata": {
  "kernelspec": {
   "display_name": "Python 3",
   "language": "python",
   "name": "python3"
  },
  "language_info": {
   "codemirror_mode": {
    "name": "ipython",
    "version": 3
   },
   "file_extension": ".py",
   "mimetype": "text/x-python",
   "name": "python",
   "nbconvert_exporter": "python",
   "pygments_lexer": "ipython3",
   "version": "3.7.3"
  }
 },
 "nbformat": 4,
 "nbformat_minor": 2
}
