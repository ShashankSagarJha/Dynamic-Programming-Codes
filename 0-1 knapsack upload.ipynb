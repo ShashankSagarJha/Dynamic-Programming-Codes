{
 "cells": [
  {
   "cell_type": "code",
   "execution_count": 54,
   "metadata": {},
   "outputs": [],
   "source": [
    "w = [1, 2, 3]\n",
    "p = [18,24,40]"
   ]
  },
  {
   "cell_type": "code",
   "execution_count": 55,
   "metadata": {},
   "outputs": [],
   "source": [
    "def knapsack(obj,capacity):\n",
    "    global calls\n",
    "    calls+=1\n",
    "    if obj==0 or capacity ==0:return 0\n",
    "    elif w[obj-1]>capacity:return knapsack(obj-1,capacity)\n",
    "    return max(p[obj-1]+knapsack(obj-1,capacity-w[obj-1]),knapsack(obj-1,capacity))"
   ]
  },
  {
   "cell_type": "code",
   "execution_count": 56,
   "metadata": {},
   "outputs": [
    {
     "data": {
      "text/plain": [
       "(42, 9)"
      ]
     },
     "execution_count": 56,
     "metadata": {},
     "output_type": "execute_result"
    }
   ],
   "source": [
    "capacity=3;calls=0\n",
    "knapsack(len(p),capacity),calls"
   ]
  },
  {
   "cell_type": "code",
   "execution_count": 57,
   "metadata": {},
   "outputs": [],
   "source": [
    "## Bootom Up"
   ]
  },
  {
   "cell_type": "code",
   "execution_count": 58,
   "metadata": {},
   "outputs": [],
   "source": [
    "tab = [[0] * (capacity+1) for i in range(len(w)+1)]"
   ]
  },
  {
   "cell_type": "code",
   "execution_count": 59,
   "metadata": {},
   "outputs": [],
   "source": [
    "def knap_bu(obj,capacity):\n",
    "    for i in range(1,obj+1):\n",
    "        for j in range(1,capacity+1):\n",
    "            if w[i-1]>j:tab[i][j]=tab[i-1][j]\n",
    "            else:tab[i][j]=max(tab[i-1][j],p[i-1]+tab[i-1][j-w[i-1]])\n",
    "    return tab[obj][capacity]"
   ]
  },
  {
   "cell_type": "code",
   "execution_count": 60,
   "metadata": {},
   "outputs": [
    {
     "data": {
      "text/plain": [
       "42"
      ]
     },
     "execution_count": 60,
     "metadata": {},
     "output_type": "execute_result"
    }
   ],
   "source": [
    "knap_bu(len(w),capacity)"
   ]
  },
  {
   "cell_type": "code",
   "execution_count": 61,
   "metadata": {},
   "outputs": [
    {
     "data": {
      "text/plain": [
       "[[0, 0, 0, 0], [0, 18, 18, 18], [0, 18, 24, 42], [0, 18, 24, 42]]"
      ]
     },
     "execution_count": 61,
     "metadata": {},
     "output_type": "execute_result"
    }
   ],
   "source": [
    "tab"
   ]
  },
  {
   "cell_type": "code",
   "execution_count": 62,
   "metadata": {},
   "outputs": [],
   "source": [
    "##Top Down\n",
    "tab_td = [[-1] * (capacity+1) for i in range(len(w)+1)]"
   ]
  },
  {
   "cell_type": "code",
   "execution_count": 63,
   "metadata": {},
   "outputs": [],
   "source": [
    "def knap_td(obj,capacity):\n",
    "    if obj==0 or capacity<=0:return 0\n",
    "    if tab_td[obj][capacity]!=-1:return tab_td[obj][capacity]\n",
    "    elif w[obj-1]>capacity:\n",
    "        tab_td[obj][capacity]=knap_td(obj-1,capacity)\n",
    "        return tab_td[obj][capacity]\n",
    "    val=p[obj-1];red_cap=capacity-w[obj-1]\n",
    "    tab_td[obj][capacity]=max(val+knap_td(obj-1,red_cap),knap_td(obj-1,capacity))\n",
    "    return tab_td[obj][capacity]"
   ]
  },
  {
   "cell_type": "code",
   "execution_count": 64,
   "metadata": {},
   "outputs": [
    {
     "data": {
      "text/plain": [
       "(42, 0)"
      ]
     },
     "execution_count": 64,
     "metadata": {},
     "output_type": "execute_result"
    }
   ],
   "source": [
    "calls_td=0\n",
    "knap_td(len(w),capacity),calls_td"
   ]
  },
  {
   "cell_type": "code",
   "execution_count": 65,
   "metadata": {},
   "outputs": [
    {
     "data": {
      "text/plain": [
       "[[-1, -1, -1, -1], [-1, 18, -1, 18], [-1, -1, -1, 42], [-1, -1, -1, 42]]"
      ]
     },
     "execution_count": 65,
     "metadata": {},
     "output_type": "execute_result"
    }
   ],
   "source": [
    "tab_td"
   ]
  },
  {
   "cell_type": "code",
   "execution_count": 66,
   "metadata": {},
   "outputs": [],
   "source": [
    "def printing_objects(obj,capacity):\n",
    "    if obj==0 or capacity<=0:print(\"That's all you can have\")\n",
    "    elif tab_td[obj-1][capacity]==tab_td[obj][capacity]:\n",
    "        printing_objects(obj-1,capacity)\n",
    "    else:\n",
    "        print(\"item\",w[obj-1],\"of capacity\",p[obj-1])\n",
    "        printing_objects(obj-1,capacity-w[obj-1])"
   ]
  },
  {
   "cell_type": "code",
   "execution_count": 67,
   "metadata": {},
   "outputs": [
    {
     "name": "stdout",
     "output_type": "stream",
     "text": [
      "item 2 of capacity 24\n",
      "item 1 of capacity 18\n",
      "That's all you can have\n"
     ]
    }
   ],
   "source": [
    "printing_objects(len(w),capacity)"
   ]
  },
  {
   "cell_type": "code",
   "execution_count": null,
   "metadata": {},
   "outputs": [],
   "source": []
  }
 ],
 "metadata": {
  "kernelspec": {
   "display_name": "Python 3",
   "language": "python",
   "name": "python3"
  },
  "language_info": {
   "codemirror_mode": {
    "name": "ipython",
    "version": 3
   },
   "file_extension": ".py",
   "mimetype": "text/x-python",
   "name": "python",
   "nbconvert_exporter": "python",
   "pygments_lexer": "ipython3",
   "version": "3.7.3"
  }
 },
 "nbformat": 4,
 "nbformat_minor": 2
}
