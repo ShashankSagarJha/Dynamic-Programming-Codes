{
 "cells": [
  {
   "cell_type": "code",
   "execution_count": 21,
   "metadata": {},
   "outputs": [],
   "source": [
    "from sys import maxsize"
   ]
  },
  {
   "cell_type": "code",
   "execution_count": 22,
   "metadata": {},
   "outputs": [
    {
     "data": {
      "text/plain": [
       "True"
      ]
     },
     "execution_count": 22,
     "metadata": {},
     "output_type": "execute_result"
    }
   ],
   "source": [
    "maxsize==maxsize"
   ]
  },
  {
   "cell_type": "markdown",
   "metadata": {},
   "source": [
    "### Recursive Code"
   ]
  },
  {
   "cell_type": "code",
   "execution_count": 23,
   "metadata": {},
   "outputs": [],
   "source": [
    "#p=[30,35,15,5,10,20,25]\n",
    "#p=[10,100,5,50]\n",
    "#p=[1, 2, 3, 4, 3 ]\n",
    "p=[30,35,15,5,10,20,25]\n",
    "#p=[1,4,4,2]\n",
    "size=len(p)"
   ]
  },
  {
   "cell_type": "code",
   "execution_count": 24,
   "metadata": {},
   "outputs": [],
   "source": [
    "def opt_mul(i,j):\n",
    "    if i==j:return 0\n",
    "    min_mul_req=maxsize\n",
    "    for k in range(i,j):\n",
    "        mul_req=opt_mul(i,k)+opt_mul(k+1,j)+(p[i-1]*p[k]*p[j])\n",
    "        if mul_req<min_mul_req:\n",
    "            min_mul_req=mul_req\n",
    "    return min_mul_req"
   ]
  },
  {
   "cell_type": "code",
   "execution_count": 25,
   "metadata": {},
   "outputs": [
    {
     "data": {
      "text/plain": [
       "15125"
      ]
     },
     "execution_count": 25,
     "metadata": {},
     "output_type": "execute_result"
    }
   ],
   "source": [
    "opt_mul(1,size-1)"
   ]
  },
  {
   "cell_type": "markdown",
   "metadata": {},
   "source": [
    "### Top Down Code"
   ]
  },
  {
   "cell_type": "code",
   "execution_count": 26,
   "metadata": {},
   "outputs": [],
   "source": [
    "tab = [[-1] * size for i in range(size)]\n",
    "opt_par=[[0] * size for i in range(size)]"
   ]
  },
  {
   "cell_type": "code",
   "execution_count": 27,
   "metadata": {},
   "outputs": [
    {
     "data": {
      "text/plain": [
       "[[-1, -1, -1, -1, -1, -1, -1],\n",
       " [-1, -1, -1, -1, -1, -1, -1],\n",
       " [-1, -1, -1, -1, -1, -1, -1],\n",
       " [-1, -1, -1, -1, -1, -1, -1],\n",
       " [-1, -1, -1, -1, -1, -1, -1],\n",
       " [-1, -1, -1, -1, -1, -1, -1],\n",
       " [-1, -1, -1, -1, -1, -1, -1]]"
      ]
     },
     "execution_count": 27,
     "metadata": {},
     "output_type": "execute_result"
    }
   ],
   "source": [
    "tab"
   ]
  },
  {
   "cell_type": "code",
   "execution_count": 28,
   "metadata": {},
   "outputs": [],
   "source": [
    "def opt_mul_td(i,j):\n",
    "    if tab[i][j]!=-1:return tab[i][j]\n",
    "    if i==j:tab[i][j]=0;return tab[i][j]\n",
    "    min_mul_req=maxsize\n",
    "    for k in range(i,j):\n",
    "        mul_req=opt_mul_td(i,k)+opt_mul_td(k+1,j)+(p[i-1]*p[k]*p[j])\n",
    "        if mul_req<min_mul_req:\n",
    "            min_mul_req=mul_req\n",
    "            opt_par[i][j]=k\n",
    "    tab[i][j]=min_mul_req\n",
    "    return tab[i][j]"
   ]
  },
  {
   "cell_type": "code",
   "execution_count": 29,
   "metadata": {},
   "outputs": [
    {
     "data": {
      "text/plain": [
       "15125"
      ]
     },
     "execution_count": 29,
     "metadata": {},
     "output_type": "execute_result"
    }
   ],
   "source": [
    "opt_mul_td(1,size-1)"
   ]
  },
  {
   "cell_type": "code",
   "execution_count": 30,
   "metadata": {},
   "outputs": [
    {
     "data": {
      "text/plain": [
       "[[-1, -1, -1, -1, -1, -1, -1],\n",
       " [-1, 0, 15750, 7875, 9375, 11875, 15125],\n",
       " [-1, -1, 0, 2625, 4375, 7125, 10500],\n",
       " [-1, -1, -1, 0, 750, 2500, 5375],\n",
       " [-1, -1, -1, -1, 0, 1000, 3500],\n",
       " [-1, -1, -1, -1, -1, 0, 5000],\n",
       " [-1, -1, -1, -1, -1, -1, 0]]"
      ]
     },
     "execution_count": 30,
     "metadata": {},
     "output_type": "execute_result"
    }
   ],
   "source": [
    "tab"
   ]
  },
  {
   "cell_type": "code",
   "execution_count": 31,
   "metadata": {
    "scrolled": true
   },
   "outputs": [
    {
     "data": {
      "text/plain": [
       "[[0, 0, 0, 0, 0, 0, 0],\n",
       " [0, 0, 1, 1, 3, 3, 3],\n",
       " [0, 0, 0, 2, 3, 3, 3],\n",
       " [0, 0, 0, 0, 3, 3, 3],\n",
       " [0, 0, 0, 0, 0, 4, 5],\n",
       " [0, 0, 0, 0, 0, 0, 5],\n",
       " [0, 0, 0, 0, 0, 0, 0]]"
      ]
     },
     "execution_count": 31,
     "metadata": {},
     "output_type": "execute_result"
    }
   ],
   "source": [
    "opt_par"
   ]
  },
  {
   "cell_type": "code",
   "execution_count": 32,
   "metadata": {},
   "outputs": [],
   "source": [
    "def ps_td(i,j):\n",
    "    if i==j:print(\"A\"+str(i),end=\"\")\n",
    "    else:\n",
    "        print(\"(\",end=\"\")\n",
    "        ps_td(i,opt_par[i][j])\n",
    "        ps_td(opt_par[i][j]+1,j)\n",
    "        print(\")\",end=\"\")"
   ]
  },
  {
   "cell_type": "code",
   "execution_count": 33,
   "metadata": {},
   "outputs": [
    {
     "name": "stdout",
     "output_type": "stream",
     "text": [
      "((A1(A2A3))((A4A5)A6))"
     ]
    }
   ],
   "source": [
    "ps_td(1,size-1)"
   ]
  },
  {
   "cell_type": "markdown",
   "metadata": {},
   "source": [
    "### Bottom Up Code "
   ]
  },
  {
   "cell_type": "code",
   "execution_count": 34,
   "metadata": {},
   "outputs": [],
   "source": [
    "tab_bu = [[0] * size for i in range(size)]\n",
    "opt_par_bu=[[0] * size for i in range(size)]"
   ]
  },
  {
   "cell_type": "code",
   "execution_count": 35,
   "metadata": {},
   "outputs": [],
   "source": [
    "def opt_mul_bu(m,n):\n",
    "    for i in range(n,0,-1):\n",
    "        for j in range(i,size):\n",
    "            min_mul_req=maxsize\n",
    "            for k in range(i,j):\n",
    "                mul_req=tab_bu[i][k]+tab_bu[k+1][j]+(p[i-1]*p[k]*p[j])\n",
    "                if mul_req<min_mul_req:\n",
    "                    min_mul_req=mul_req\n",
    "                    tab_bu[i][j]=min_mul_req\n",
    "                    opt_par_bu[i][j]=k\n",
    "    return tab_bu[m][n]"
   ]
  },
  {
   "cell_type": "code",
   "execution_count": 36,
   "metadata": {},
   "outputs": [
    {
     "data": {
      "text/plain": [
       "15125"
      ]
     },
     "execution_count": 36,
     "metadata": {},
     "output_type": "execute_result"
    }
   ],
   "source": [
    "opt_mul_bu(1,size-1)"
   ]
  },
  {
   "cell_type": "code",
   "execution_count": 37,
   "metadata": {},
   "outputs": [
    {
     "data": {
      "text/plain": [
       "[[0, 0, 0, 0, 0, 0, 0],\n",
       " [0, 0, 15750, 7875, 9375, 11875, 15125],\n",
       " [0, 0, 0, 2625, 4375, 7125, 10500],\n",
       " [0, 0, 0, 0, 750, 2500, 5375],\n",
       " [0, 0, 0, 0, 0, 1000, 3500],\n",
       " [0, 0, 0, 0, 0, 0, 5000],\n",
       " [0, 0, 0, 0, 0, 0, 0]]"
      ]
     },
     "execution_count": 37,
     "metadata": {},
     "output_type": "execute_result"
    }
   ],
   "source": [
    "tab_bu"
   ]
  },
  {
   "cell_type": "code",
   "execution_count": 38,
   "metadata": {},
   "outputs": [],
   "source": [
    "def ps_bu(i,j):\n",
    "    if i==j:print(\"A\"+str(i),end=\"\")\n",
    "    else:\n",
    "        print(\"(\",end=\"\")\n",
    "        ps_bu(i,opt_par_bu[i][j])\n",
    "        ps_bu(opt_par_bu[i][j]+1,j)\n",
    "        print(\")\",end=\"\")"
   ]
  },
  {
   "cell_type": "code",
   "execution_count": 39,
   "metadata": {},
   "outputs": [
    {
     "name": "stdout",
     "output_type": "stream",
     "text": [
      "((A1(A2A3))((A4A5)A6))"
     ]
    }
   ],
   "source": [
    "ps_bu(1,size-1)"
   ]
  },
  {
   "cell_type": "code",
   "execution_count": 40,
   "metadata": {},
   "outputs": [
    {
     "data": {
      "text/plain": [
       "[[0, 0, 0, 0, 0, 0, 0],\n",
       " [0, 0, 1, 1, 3, 3, 3],\n",
       " [0, 0, 0, 2, 3, 3, 3],\n",
       " [0, 0, 0, 0, 3, 3, 3],\n",
       " [0, 0, 0, 0, 0, 4, 5],\n",
       " [0, 0, 0, 0, 0, 0, 5],\n",
       " [0, 0, 0, 0, 0, 0, 0]]"
      ]
     },
     "execution_count": 40,
     "metadata": {},
     "output_type": "execute_result"
    }
   ],
   "source": [
    "opt_par_bu"
   ]
  },
  {
   "cell_type": "code",
   "execution_count": null,
   "metadata": {},
   "outputs": [],
   "source": []
  }
 ],
 "metadata": {
  "kernelspec": {
   "display_name": "Python 3",
   "language": "python",
   "name": "python3"
  },
  "language_info": {
   "codemirror_mode": {
    "name": "ipython",
    "version": 3
   },
   "file_extension": ".py",
   "mimetype": "text/x-python",
   "name": "python",
   "nbconvert_exporter": "python",
   "pygments_lexer": "ipython3",
   "version": "3.7.3"
  }
 },
 "nbformat": 4,
 "nbformat_minor": 2
}
